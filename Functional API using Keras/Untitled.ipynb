{
 "cells": [
  {
   "cell_type": "code",
   "execution_count": 3,
   "id": "d3204494-4c4f-43f5-92aa-2244962df054",
   "metadata": {},
   "outputs": [],
   "source": [
    "import os\n",
    "import pandas as pd\n",
    "import numpy as np\n",
    "from tensorflow.keras.preprocessing.image import ImageDataGenerator"
   ]
  },
  {
   "cell_type": "code",
   "execution_count": 4,
   "id": "98d448c5-72cd-4dfa-866f-1f58de7081c7",
   "metadata": {},
   "outputs": [],
   "source": [
    "folder_path = \"Content/utkface_aligned_cropped/UTKFace\""
   ]
  },
  {
   "cell_type": "code",
   "execution_count": 6,
   "id": "c5a2be9e-24cf-4dcc-a280-8b39e93a2785",
   "metadata": {},
   "outputs": [],
   "source": [
    "# Prepare lists\n",
    "age = []\n",
    "gender = []\n",
    "img_paths = []\n",
    "\n",
    "# Loop through files safely\n",
    "for file in os.listdir(folder_path):\n",
    "    if file.lower().endswith(('.jpg', '.jpeg', '.png')) and '_' in file:\n",
    "        parts = file.split('_')\n",
    "        try:\n",
    "            a = int(parts[0])\n",
    "            g = int(parts[1])\n",
    "            age.append(a)\n",
    "            gender.append(g)\n",
    "            img_paths.append(os.path.join(folder_path, file))\n",
    "        except ValueError:\n",
    "            print(f\"Skipping invalid file: {file}\")"
   ]
  },
  {
   "cell_type": "code",
   "execution_count": 7,
   "id": "27d60a75-7ee6-4667-b935-b6b2e872bb4f",
   "metadata": {},
   "outputs": [
    {
     "name": "stdout",
     "output_type": "stream",
     "text": [
      "Total valid images loaded: 5988\n"
     ]
    }
   ],
   "source": [
    "# Print status\n",
    "print(f\"Total valid images loaded: {len(img_paths)}\")"
   ]
  },
  {
   "cell_type": "code",
   "execution_count": 8,
   "id": "8f1081fb-620d-4510-a7f1-ab695080ebcf",
   "metadata": {},
   "outputs": [
    {
     "data": {
      "text/plain": [
       "5988"
      ]
     },
     "execution_count": 8,
     "metadata": {},
     "output_type": "execute_result"
    }
   ],
   "source": [
    "len(age)"
   ]
  },
  {
   "cell_type": "code",
   "execution_count": null,
   "id": "39fff971-f328-4d67-95c9-c787db619804",
   "metadata": {},
   "outputs": [],
   "source": []
  }
 ],
 "metadata": {
  "kernelspec": {
   "display_name": "Python 3 (ipykernel)",
   "language": "python",
   "name": "python3"
  },
  "language_info": {
   "codemirror_mode": {
    "name": "ipython",
    "version": 3
   },
   "file_extension": ".py",
   "mimetype": "text/x-python",
   "name": "python",
   "nbconvert_exporter": "python",
   "pygments_lexer": "ipython3",
   "version": "3.12.3"
  }
 },
 "nbformat": 4,
 "nbformat_minor": 5
}

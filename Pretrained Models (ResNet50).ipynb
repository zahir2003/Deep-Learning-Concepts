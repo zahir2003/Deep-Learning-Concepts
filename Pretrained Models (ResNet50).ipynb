{
 "cells": [
  {
   "cell_type": "code",
   "execution_count": 3,
   "id": "06d4eb9a-fb59-442c-8fec-1294a09e12f3",
   "metadata": {},
   "outputs": [],
   "source": [
    "from tensorflow.keras.applications.resnet50 import ResNet50\n",
    "from tensorflow.keras.preprocessing import image\n",
    "from tensorflow.keras.applications.resnet50 import preprocess_input, decode_predictions\n",
    "import numpy as np"
   ]
  },
  {
   "cell_type": "code",
   "execution_count": 4,
   "id": "bd9fc752-bfad-4d64-8eb6-8e7fc20690a5",
   "metadata": {},
   "outputs": [
    {
     "name": "stderr",
     "output_type": "stream",
     "text": [
      "I0000 00:00:1748966954.422140     527 gpu_device.cc:2019] Created device /job:localhost/replica:0/task:0/device:GPU:0 with 1767 MB memory:  -> device: 0, name: NVIDIA GeForce RTX 2050, pci bus id: 0000:01:00.0, compute capability: 8.6\n"
     ]
    }
   ],
   "source": [
    "model = ResNet50(weights='imagenet')"
   ]
  },
  {
   "cell_type": "code",
   "execution_count": 5,
   "id": "30568adf-0e4e-4c5a-b956-52d5a97cb55c",
   "metadata": {},
   "outputs": [],
   "source": [
    "img_path = 'Dog2.jpg'\n",
    "img = image.load_img(img_path,target_size=(224,224))\n",
    "x = image.img_to_array(img)\n",
    "x = np.expand_dims(x,axis=0)\n",
    "x = preprocess_input(x)"
   ]
  },
  {
   "cell_type": "code",
   "execution_count": 6,
   "id": "c0e50eaa-242f-4ff4-bb95-985bab5599bb",
   "metadata": {},
   "outputs": [
    {
     "name": "stderr",
     "output_type": "stream",
     "text": [
      "WARNING: All log messages before absl::InitializeLog() is called are written to STDERR\n",
      "I0000 00:00:1748967226.510646     739 service.cc:152] XLA service 0x7e5b74001e10 initialized for platform CUDA (this does not guarantee that XLA will be used). Devices:\n",
      "I0000 00:00:1748967226.510707     739 service.cc:160]   StreamExecutor device (0): NVIDIA GeForce RTX 2050, Compute Capability 8.6\n",
      "2025-06-03 16:13:46.721901: I tensorflow/compiler/mlir/tensorflow/utils/dump_mlir_util.cc:269] disabling MLIR crash reproducer, set env var `MLIR_CRASH_REPRODUCER_DIRECTORY` to enable.\n",
      "I0000 00:00:1748967227.615226     739 cuda_dnn.cc:529] Loaded cuDNN version 90300\n"
     ]
    },
    {
     "name": "stdout",
     "output_type": "stream",
     "text": [
      "\u001b[1m1/1\u001b[0m \u001b[32m━━━━━━━━━━━━━━━━━━━━\u001b[0m\u001b[37m\u001b[0m \u001b[1m9s\u001b[0m 9s/step\n"
     ]
    },
    {
     "name": "stderr",
     "output_type": "stream",
     "text": [
      "I0000 00:00:1748967232.997103     739 device_compiler.h:188] Compiled cluster using XLA!  This line is logged at most once for the lifetime of the process.\n"
     ]
    },
    {
     "name": "stdout",
     "output_type": "stream",
     "text": [
      "Predicted :  [('n02099601', 'golden_retriever', 0.1446658), ('n02088364', 'beagle', 0.106205836), ('n02099712', 'Labrador_retriever', 0.09649032)]\n"
     ]
    }
   ],
   "source": [
    "preds = model.predict(x)\n",
    "print(\"Predicted : \",decode_predictions(preds,top=3)[0])"
   ]
  },
  {
   "cell_type": "code",
   "execution_count": 7,
   "id": "58a48370-f932-4e72-9a2b-ca65010be985",
   "metadata": {},
   "outputs": [],
   "source": [
    "img_path = 'Cat3.jpg'\n",
    "img = image.load_img(img_path,target_size=(224,224))\n",
    "x = image.img_to_array(img)\n",
    "x = np.expand_dims(x,axis=0)\n",
    "x = preprocess_input(x)"
   ]
  },
  {
   "cell_type": "code",
   "execution_count": 8,
   "id": "f6c505db-ed91-4251-aa7a-367c1259e2e2",
   "metadata": {},
   "outputs": [
    {
     "name": "stdout",
     "output_type": "stream",
     "text": [
      "\u001b[1m1/1\u001b[0m \u001b[32m━━━━━━━━━━━━━━━━━━━━\u001b[0m\u001b[37m\u001b[0m \u001b[1m0s\u001b[0m 179ms/step\n",
      "Predicted :  [('n02124075', 'Egyptian_cat', 0.5920725), ('n02123159', 'tiger_cat', 0.27007785), ('n02123045', 'tabby', 0.087492086)]\n"
     ]
    }
   ],
   "source": [
    "preds = model.predict(x)\n",
    "print(\"Predicted : \",decode_predictions(preds,top=3)[0])"
   ]
  },
  {
   "cell_type": "code",
   "execution_count": 9,
   "id": "aa106e8b-b142-4e4d-8a38-79d925687b3a",
   "metadata": {},
   "outputs": [],
   "source": [
    "img_path = 'Bread_image.jpeg'\n",
    "img = image.load_img(img_path,target_size=(224,224))\n",
    "x = image.img_to_array(img)\n",
    "x = np.expand_dims(x,axis=0)\n",
    "x = preprocess_input(x)"
   ]
  },
  {
   "cell_type": "code",
   "execution_count": 10,
   "id": "007f9dd6-e759-49e1-8516-7c0c9f4c65b7",
   "metadata": {},
   "outputs": [
    {
     "name": "stdout",
     "output_type": "stream",
     "text": [
      "\u001b[1m1/1\u001b[0m \u001b[32m━━━━━━━━━━━━━━━━━━━━\u001b[0m\u001b[37m\u001b[0m \u001b[1m0s\u001b[0m 175ms/step\n",
      "Predicted :  [('n07684084', 'French_loaf', 0.741841), ('n04442312', 'toaster', 0.24042927), ('n03482405', 'hamper', 0.0064668613)]\n"
     ]
    }
   ],
   "source": [
    "preds = model.predict(x)\n",
    "print(\"Predicted : \",decode_predictions(preds,top=3)[0])"
   ]
  },
  {
   "cell_type": "code",
   "execution_count": 11,
   "id": "53e6b193-d100-4101-9831-789dc434eec7",
   "metadata": {},
   "outputs": [],
   "source": [
    "img_path = 'Tomato_image.jpeg'\n",
    "img = image.load_img(img_path,target_size=(224,224))\n",
    "x = image.img_to_array(img)\n",
    "x = np.expand_dims(x,axis=0)\n",
    "x = preprocess_input(x)"
   ]
  },
  {
   "cell_type": "code",
   "execution_count": 12,
   "id": "247267fb-8fd5-47be-b358-43dd1bd672a9",
   "metadata": {},
   "outputs": [
    {
     "name": "stdout",
     "output_type": "stream",
     "text": [
      "\u001b[1m1/1\u001b[0m \u001b[32m━━━━━━━━━━━━━━━━━━━━\u001b[0m\u001b[37m\u001b[0m \u001b[1m0s\u001b[0m 185ms/step\n",
      "Predicted :  [('n03461385', 'grocery_store', 0.5434488), ('n12620546', 'hip', 0.29310882), ('n07768694', 'pomegranate', 0.0800039)]\n"
     ]
    }
   ],
   "source": [
    "preds = model.predict(x)\n",
    "print(\"Predicted : \",decode_predictions(preds,top=3)[0])"
   ]
  },
  {
   "cell_type": "code",
   "execution_count": null,
   "id": "94851caa-6505-4404-a58a-63ad233a093b",
   "metadata": {},
   "outputs": [],
   "source": []
  }
 ],
 "metadata": {
  "kernelspec": {
   "display_name": "Python 3 (ipykernel)",
   "language": "python",
   "name": "python3"
  },
  "language_info": {
   "codemirror_mode": {
    "name": "ipython",
    "version": 3
   },
   "file_extension": ".py",
   "mimetype": "text/x-python",
   "name": "python",
   "nbconvert_exporter": "python",
   "pygments_lexer": "ipython3",
   "version": "3.12.3"
  }
 },
 "nbformat": 4,
 "nbformat_minor": 5
}

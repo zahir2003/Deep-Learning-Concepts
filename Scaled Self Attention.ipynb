{
 "cells": [
  {
   "cell_type": "code",
   "execution_count": 1,
   "id": "707e8e56-49b2-4963-909d-a5baacd8eb15",
   "metadata": {},
   "outputs": [],
   "source": [
    "import numpy as np\n",
    "import matplotlib.pyplot as plt"
   ]
  },
  {
   "cell_type": "code",
   "execution_count": 2,
   "id": "40ad327a-a766-4fc0-86fe-cad3a18f79fb",
   "metadata": {},
   "outputs": [],
   "source": [
    "def softmax(x):\n",
    "    # Ensure numerical stability by subtracting the max value from each element\n",
    "    e_x = np.exp(x - np.max(x))\n",
    "    softmax_values = e_x / e_x.sum(axis=0) # Noemalize\n",
    "    percent_values = softmax_values * 100 # Convert to percent\n",
    "    # Format each values to a string with 2 decimal places followed by a percent sign\n",
    "    formatted_percent_values = [f\"{value:.2f}%\" for value in percent_values]\n",
    "    return formatted_percent_values"
   ]
  },
  {
   "cell_type": "code",
   "execution_count": 5,
   "id": "4b384562-29b8-4f68-9186-d947ba592330",
   "metadata": {},
   "outputs": [
    {
     "data": {
      "text/plain": [
       "['0.01%', '99.99%']"
      ]
     },
     "execution_count": 5,
     "metadata": {},
     "output_type": "execute_result"
    }
   ],
   "source": [
    "# Example usage of the softmax function\n",
    "softmax(np.array([1,10]))"
   ]
  },
  {
   "cell_type": "code",
   "execution_count": 6,
   "id": "3e0c4ec5-4929-4837-8072-bf107b2aff62",
   "metadata": {},
   "outputs": [
    {
     "data": {
      "text/plain": [
       "np.float64(400.0)"
      ]
     },
     "execution_count": 6,
     "metadata": {},
     "output_type": "execute_result"
    }
   ],
   "source": [
    "np.array([10,20,30,40,50,60,70]).var()"
   ]
  },
  {
   "cell_type": "code",
   "execution_count": 7,
   "id": "81b1fd41-c270-45ef-96f9-3f2108c239e8",
   "metadata": {},
   "outputs": [
    {
     "data": {
      "text/plain": [
       "np.float64(4.0)"
      ]
     },
     "execution_count": 7,
     "metadata": {},
     "output_type": "execute_result"
    }
   ],
   "source": [
    "np.array([1,2,3,4,5,6,7]).var()"
   ]
  },
  {
   "cell_type": "code",
   "execution_count": null,
   "id": "dee9253b-cbba-4d37-8449-c65bfaf44594",
   "metadata": {},
   "outputs": [],
   "source": []
  }
 ],
 "metadata": {
  "kernelspec": {
   "display_name": "Python 3 (ipykernel)",
   "language": "python",
   "name": "python3"
  },
  "language_info": {
   "codemirror_mode": {
    "name": "ipython",
    "version": 3
   },
   "file_extension": ".py",
   "mimetype": "text/x-python",
   "name": "python",
   "nbconvert_exporter": "python",
   "pygments_lexer": "ipython3",
   "version": "3.12.3"
  }
 },
 "nbformat": 4,
 "nbformat_minor": 5
}

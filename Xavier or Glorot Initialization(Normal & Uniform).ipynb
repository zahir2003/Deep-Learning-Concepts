{
 "cells": [
  {
   "cell_type": "code",
   "execution_count": 1,
   "id": "da4c50d1-5201-4685-8779-937cffca02b5",
   "metadata": {},
   "outputs": [],
   "source": [
    "import pandas as pd\n",
    "import numpy as np\n",
    "import matplotlib.pyplot as plt"
   ]
  },
  {
   "cell_type": "code",
   "execution_count": 2,
   "id": "5d475350-5961-4956-af92-bc79911a238b",
   "metadata": {},
   "outputs": [],
   "source": [
    "df = pd.read_csv('ushape.csv')"
   ]
  },
  {
   "cell_type": "code",
   "execution_count": 3,
   "id": "1044c417-6893-4c53-b199-00a258b3403b",
   "metadata": {},
   "outputs": [
    {
     "data": {
      "text/html": [
       "<div>\n",
       "<style scoped>\n",
       "    .dataframe tbody tr th:only-of-type {\n",
       "        vertical-align: middle;\n",
       "    }\n",
       "\n",
       "    .dataframe tbody tr th {\n",
       "        vertical-align: top;\n",
       "    }\n",
       "\n",
       "    .dataframe thead th {\n",
       "        text-align: right;\n",
       "    }\n",
       "</style>\n",
       "<table border=\"1\" class=\"dataframe\">\n",
       "  <thead>\n",
       "    <tr style=\"text-align: right;\">\n",
       "      <th></th>\n",
       "      <th>3.159499363321345566e-02</th>\n",
       "      <th>9.869877579082642072e-01</th>\n",
       "      <th>0.000000000000000000e+00</th>\n",
       "    </tr>\n",
       "  </thead>\n",
       "  <tbody>\n",
       "    <tr>\n",
       "      <th>0</th>\n",
       "      <td>2.115098</td>\n",
       "      <td>-0.046244</td>\n",
       "      <td>1.0</td>\n",
       "    </tr>\n",
       "    <tr>\n",
       "      <th>1</th>\n",
       "      <td>0.882490</td>\n",
       "      <td>-0.075756</td>\n",
       "      <td>0.0</td>\n",
       "    </tr>\n",
       "    <tr>\n",
       "      <th>2</th>\n",
       "      <td>-0.055144</td>\n",
       "      <td>-0.037332</td>\n",
       "      <td>1.0</td>\n",
       "    </tr>\n",
       "    <tr>\n",
       "      <th>3</th>\n",
       "      <td>0.829545</td>\n",
       "      <td>-0.539321</td>\n",
       "      <td>1.0</td>\n",
       "    </tr>\n",
       "    <tr>\n",
       "      <th>4</th>\n",
       "      <td>2.112857</td>\n",
       "      <td>0.662084</td>\n",
       "      <td>1.0</td>\n",
       "    </tr>\n",
       "  </tbody>\n",
       "</table>\n",
       "</div>"
      ],
      "text/plain": [
       "   3.159499363321345566e-02  9.869877579082642072e-01  \\\n",
       "0                  2.115098                 -0.046244   \n",
       "1                  0.882490                 -0.075756   \n",
       "2                 -0.055144                 -0.037332   \n",
       "3                  0.829545                 -0.539321   \n",
       "4                  2.112857                  0.662084   \n",
       "\n",
       "   0.000000000000000000e+00  \n",
       "0                       1.0  \n",
       "1                       0.0  \n",
       "2                       1.0  \n",
       "3                       1.0  \n",
       "4                       1.0  "
      ]
     },
     "execution_count": 3,
     "metadata": {},
     "output_type": "execute_result"
    }
   ],
   "source": [
    "df.head()"
   ]
  },
  {
   "cell_type": "code",
   "execution_count": 4,
   "id": "7e313110-79fa-4d3c-b242-d7dbbd5bf4d0",
   "metadata": {},
   "outputs": [],
   "source": [
    "df['X'] = df['3.159499363321345566e-02'].rename('X')"
   ]
  },
  {
   "cell_type": "code",
   "execution_count": 5,
   "id": "987d4d6e-05ee-448e-a669-bd11ff81832f",
   "metadata": {},
   "outputs": [],
   "source": [
    "df['Y'] = df['9.869877579082642072e-01'].rename('Y')"
   ]
  },
  {
   "cell_type": "code",
   "execution_count": 6,
   "id": "3d1a9f88-2c39-4edc-90a1-eea9d5c81d75",
   "metadata": {},
   "outputs": [],
   "source": [
    "df['class'] = df['0.000000000000000000e+00'].rename('class')"
   ]
  },
  {
   "cell_type": "code",
   "execution_count": 7,
   "id": "ad848a06-a544-4c36-a453-a741e88cf6f0",
   "metadata": {},
   "outputs": [],
   "source": [
    "df.drop(columns=['9.869877579082642072e-01','0.000000000000000000e+00','3.159499363321345566e-02'],axis=1,inplace=True)"
   ]
  },
  {
   "cell_type": "code",
   "execution_count": 8,
   "id": "446c3d0f-e0b9-4dd9-a63b-f50c5da8f7dc",
   "metadata": {},
   "outputs": [
    {
     "data": {
      "text/html": [
       "<div>\n",
       "<style scoped>\n",
       "    .dataframe tbody tr th:only-of-type {\n",
       "        vertical-align: middle;\n",
       "    }\n",
       "\n",
       "    .dataframe tbody tr th {\n",
       "        vertical-align: top;\n",
       "    }\n",
       "\n",
       "    .dataframe thead th {\n",
       "        text-align: right;\n",
       "    }\n",
       "</style>\n",
       "<table border=\"1\" class=\"dataframe\">\n",
       "  <thead>\n",
       "    <tr style=\"text-align: right;\">\n",
       "      <th></th>\n",
       "      <th>X</th>\n",
       "      <th>Y</th>\n",
       "      <th>class</th>\n",
       "    </tr>\n",
       "  </thead>\n",
       "  <tbody>\n",
       "    <tr>\n",
       "      <th>0</th>\n",
       "      <td>2.115098</td>\n",
       "      <td>-0.046244</td>\n",
       "      <td>1.0</td>\n",
       "    </tr>\n",
       "    <tr>\n",
       "      <th>1</th>\n",
       "      <td>0.882490</td>\n",
       "      <td>-0.075756</td>\n",
       "      <td>0.0</td>\n",
       "    </tr>\n",
       "    <tr>\n",
       "      <th>2</th>\n",
       "      <td>-0.055144</td>\n",
       "      <td>-0.037332</td>\n",
       "      <td>1.0</td>\n",
       "    </tr>\n",
       "    <tr>\n",
       "      <th>3</th>\n",
       "      <td>0.829545</td>\n",
       "      <td>-0.539321</td>\n",
       "      <td>1.0</td>\n",
       "    </tr>\n",
       "    <tr>\n",
       "      <th>4</th>\n",
       "      <td>2.112857</td>\n",
       "      <td>0.662084</td>\n",
       "      <td>1.0</td>\n",
       "    </tr>\n",
       "  </tbody>\n",
       "</table>\n",
       "</div>"
      ],
      "text/plain": [
       "          X         Y  class\n",
       "0  2.115098 -0.046244    1.0\n",
       "1  0.882490 -0.075756    0.0\n",
       "2 -0.055144 -0.037332    1.0\n",
       "3  0.829545 -0.539321    1.0\n",
       "4  2.112857  0.662084    1.0"
      ]
     },
     "execution_count": 8,
     "metadata": {},
     "output_type": "execute_result"
    }
   ],
   "source": [
    "df.head()"
   ]
  },
  {
   "cell_type": "code",
   "execution_count": 9,
   "id": "ee634cfa-f82a-4746-b8e3-8f341c50d332",
   "metadata": {},
   "outputs": [
    {
     "data": {
      "text/plain": [
       "<matplotlib.collections.PathCollection at 0x7fb28364b4a0>"
      ]
     },
     "execution_count": 9,
     "metadata": {},
     "output_type": "execute_result"
    },
    {
     "data": {
      "image/png": "[encoded data removed]",
      "text/plain": [
       "<Figure size 640x480 with 1 Axes>"
      ]
     },
     "metadata": {},
     "output_type": "display_data"
    }
   ],
   "source": [
    "plt.scatter(df['X'],df['Y'],c=df['class'])"
   ]
  },
  {
   "cell_type": "code",
   "execution_count": 10,
   "id": "ef78b3e1-0ca3-4b2f-87ce-95f52cb47553",
   "metadata": {},
   "outputs": [],
   "source": [
    "X = df.drop(columns=['class'],axis=1)\n",
    "y = df['class']"
   ]
  },
  {
   "cell_type": "code",
   "execution_count": 11,
   "id": "94bd89e1-b831-4d7f-8262-f15b2bd3ae89",
   "metadata": {},
   "outputs": [
    {
     "name": "stderr",
     "output_type": "stream",
     "text": [
      "2025-05-23 17:45:19.874632: E external/local_xla/xla/stream_executor/cuda/cuda_fft.cc:467] Unable to register cuFFT factory: Attempting to register factory for plugin cuFFT when one has already been registered\n",
      "WARNING: All log messages before absl::InitializeLog() is called are written to STDERR\n",
      "E0000 00:00:1748022319.886282   27803 cuda_dnn.cc:8579] Unable to register cuDNN factory: Attempting to register factory for plugin cuDNN when one has already been registered\n",
      "E0000 00:00:1748022319.889736   27803 cuda_blas.cc:1407] Unable to register cuBLAS factory: Attempting to register factory for plugin cuBLAS when one has already been registered\n",
      "W0000 00:00:1748022319.900009   27803 computation_placer.cc:177] computation placer already registered. Please check linkage and avoid linking the same target more than once.\n",
      "W0000 00:00:1748022319.900024   27803 computation_placer.cc:177] computation placer already registered. Please check linkage and avoid linking the same target more than once.\n",
      "W0000 00:00:1748022319.900025   27803 computation_placer.cc:177] computation placer already registered. Please check linkage and avoid linking the same target more than once.\n",
      "W0000 00:00:1748022319.900027   27803 computation_placer.cc:177] computation placer already registered. Please check linkage and avoid linking the same target more than once.\n",
      "2025-05-23 17:45:19.903427: I tensorflow/core/platform/cpu_feature_guard.cc:210] This TensorFlow binary is optimized to use available CPU instructions in performance-critical operations.\n",
      "To enable the following instructions: AVX2 FMA, in other operations, rebuild TensorFlow with the appropriate compiler flags.\n"
     ]
    }
   ],
   "source": [
    "import tensorflow\n",
    "from tensorflow import keras\n",
    "from tensorflow.keras import Sequential\n",
    "from keras.layers import Dense"
   ]
  },
  {
   "cell_type": "code",
   "execution_count": 12,
   "id": "7309d761-da84-45ec-b044-40d760b67b9b",
   "metadata": {},
   "outputs": [
    {
     "name": "stderr",
     "output_type": "stream",
     "text": [
      "/home/zahir/Tf_gpu/tfgpu1/lib/python3.12/site-packages/keras/src/layers/core/dense.py:87: UserWarning: Do not pass an `input_shape`/`input_dim` argument to a layer. When using Sequential models, prefer using an `Input(shape)` object as the first layer in the model instead.\n",
      "  super().__init__(activity_regularizer=activity_regularizer, **kwargs)\n",
      "I0000 00:00:1748022321.697787   27803 gpu_device.cc:2019] Created device /job:localhost/replica:0/task:0/device:GPU:0 with 1767 MB memory:  -> device: 0, name: NVIDIA GeForce RTX 2050, pci bus id: 0000:01:00.0, compute capability: 8.6\n"
     ]
    }
   ],
   "source": [
    "# model = Sequential()\n",
    "# model.add(Dense(10,activation='tanh',input_dim=2,kernel_initializer='glorot_normal'))\n",
    "# model.add(Dense(10,activation='tanh',kernel_initializer='glorot_normal'))\n",
    "# model.add(Dense(10,activation='tanh',kernel_initializer='glorot_normal'))\n",
    "# model.add(Dense(10,activation='tanh',kernel_initializer='glorot_normal'))\n",
    "# model.add(Dense(1,activation='sigmoid'))\n",
    "\n",
    "model = Sequential()\n",
    "model.add(Dense(10,activation='tanh',input_dim=2,kernel_initializer='glorot_uniform'))\n",
    "model.add(Dense(10,activation='tanh',kernel_initializer='glorot_uniform'))\n",
    "model.add(Dense(10,activation='tanh',kernel_initializer='glorot_uniform'))\n",
    "model.add(Dense(10,activation='tanh',kernel_initializer='glorot_uniform'))\n",
    "model.add(Dense(1,activation='sigmoid'))"
   ]
  },
  {
   "cell_type": "code",
   "execution_count": 13,
   "id": "a7c090e8-4a51-40fc-9b08-b68fe4971a5f",
   "metadata": {},
   "outputs": [
    {
     "data": {
      "text/html": [
       "<pre style=\"white-space:pre;overflow-x:auto;line-height:normal;font-family:Menlo,'DejaVu Sans Mono',consolas,'Courier New',monospace\"><span style=\"font-weight: bold\">Model: \"sequential\"</span>\n",
       "</pre>\n"
      ],
      "text/plain": [
       "\u001b[1mModel: \"sequential\"\u001b[0m\n"
      ]
     },
     "metadata": {},
     "output_type": "display_data"
    },
    {
     "data": {
      "text/html": [
       "<pre style=\"white-space:pre;overflow-x:auto;line-height:normal;font-family:Menlo,'DejaVu Sans Mono',consolas,'Courier New',monospace\">┏━━━━━━━━━━━━━━━━━━━━━━━━━━━━━━━━━┳━━━━━━━━━━━━━━━━━━━━━━━━┳━━━━━━━━━━━━━━━┓\n",
       "┃<span style=\"font-weight: bold\"> Layer (type)                    </span>┃<span style=\"font-weight: bold\"> Output Shape           </span>┃<span style=\"font-weight: bold\">       Param # </span>┃\n",
       "┡━━━━━━━━━━━━━━━━━━━━━━━━━━━━━━━━━╇━━━━━━━━━━━━━━━━━━━━━━━━╇━━━━━━━━━━━━━━━┩\n",
       "│ dense (<span style=\"color: #0087ff; text-decoration-color: #0087ff\">Dense</span>)                   │ (<span style=\"color: #00d7ff; text-decoration-color: #00d7ff\">None</span>, <span style=\"color: #00af00; text-decoration-color: #00af00\">10</span>)             │            <span style=\"color: #00af00; text-decoration-color: #00af00\">30</span> │\n",
       "├─────────────────────────────────┼────────────────────────┼───────────────┤\n",
       "│ dense_1 (<span style=\"color: #0087ff; text-decoration-color: #0087ff\">Dense</span>)                 │ (<span style=\"color: #00d7ff; text-decoration-color: #00d7ff\">None</span>, <span style=\"color: #00af00; text-decoration-color: #00af00\">10</span>)             │           <span style=\"color: #00af00; text-decoration-color: #00af00\">110</span> │\n",
       "├─────────────────────────────────┼────────────────────────┼───────────────┤\n",
       "│ dense_2 (<span style=\"color: #0087ff; text-decoration-color: #0087ff\">Dense</span>)                 │ (<span style=\"color: #00d7ff; text-decoration-color: #00d7ff\">None</span>, <span style=\"color: #00af00; text-decoration-color: #00af00\">10</span>)             │           <span style=\"color: #00af00; text-decoration-color: #00af00\">110</span> │\n",
       "├─────────────────────────────────┼────────────────────────┼───────────────┤\n",
       "│ dense_3 (<span style=\"color: #0087ff; text-decoration-color: #0087ff\">Dense</span>)                 │ (<span style=\"color: #00d7ff; text-decoration-color: #00d7ff\">None</span>, <span style=\"color: #00af00; text-decoration-color: #00af00\">10</span>)             │           <span style=\"color: #00af00; text-decoration-color: #00af00\">110</span> │\n",
       "├─────────────────────────────────┼────────────────────────┼───────────────┤\n",
       "│ dense_4 (<span style=\"color: #0087ff; text-decoration-color: #0087ff\">Dense</span>)                 │ (<span style=\"color: #00d7ff; text-decoration-color: #00d7ff\">None</span>, <span style=\"color: #00af00; text-decoration-color: #00af00\">1</span>)              │            <span style=\"color: #00af00; text-decoration-color: #00af00\">11</span> │\n",
       "└─────────────────────────────────┴────────────────────────┴───────────────┘\n",
       "</pre>\n"
      ],
      "text/plain": [
       "┏━━━━━━━━━━━━━━━━━━━━━━━━━━━━━━━━━┳━━━━━━━━━━━━━━━━━━━━━━━━┳━━━━━━━━━━━━━━━┓\n",
       "┃\u001b[1m \u001b[0m\u001b[1mLayer (type)                   \u001b[0m\u001b[1m \u001b[0m┃\u001b[1m \u001b[0m\u001b[1mOutput Shape          \u001b[0m\u001b[1m \u001b[0m┃\u001b[1m \u001b[0m\u001b[1m      Param #\u001b[0m\u001b[1m \u001b[0m┃\n",
       "┡━━━━━━━━━━━━━━━━━━━━━━━━━━━━━━━━━╇━━━━━━━━━━━━━━━━━━━━━━━━╇━━━━━━━━━━━━━━━┩\n",
       "│ dense (\u001b[38;5;33mDense\u001b[0m)                   │ (\u001b[38;5;45mNone\u001b[0m, \u001b[38;5;34m10\u001b[0m)             │            \u001b[38;5;34m30\u001b[0m │\n",
       "├─────────────────────────────────┼────────────────────────┼───────────────┤\n",
       "│ dense_1 (\u001b[38;5;33mDense\u001b[0m)                 │ (\u001b[38;5;45mNone\u001b[0m, \u001b[38;5;34m10\u001b[0m)             │           \u001b[38;5;34m110\u001b[0m │\n",
       "├─────────────────────────────────┼────────────────────────┼───────────────┤\n",
       "│ dense_2 (\u001b[38;5;33mDense\u001b[0m)                 │ (\u001b[38;5;45mNone\u001b[0m, \u001b[38;5;34m10\u001b[0m)             │           \u001b[38;5;34m110\u001b[0m │\n",
       "├─────────────────────────────────┼────────────────────────┼───────────────┤\n",
       "│ dense_3 (\u001b[38;5;33mDense\u001b[0m)                 │ (\u001b[38;5;45mNone\u001b[0m, \u001b[38;5;34m10\u001b[0m)             │           \u001b[38;5;34m110\u001b[0m │\n",
       "├─────────────────────────────────┼────────────────────────┼───────────────┤\n",
       "│ dense_4 (\u001b[38;5;33mDense\u001b[0m)                 │ (\u001b[38;5;45mNone\u001b[0m, \u001b[38;5;34m1\u001b[0m)              │            \u001b[38;5;34m11\u001b[0m │\n",
       "└─────────────────────────────────┴────────────────────────┴───────────────┘\n"
      ]
     },
     "metadata": {},
     "output_type": "display_data"
    },
    {
     "data": {
      "text/html": [
       "<pre style=\"white-space:pre;overflow-x:auto;line-height:normal;font-family:Menlo,'DejaVu Sans Mono',consolas,'Courier New',monospace\"><span style=\"font-weight: bold\"> Total params: </span><span style=\"color: #00af00; text-decoration-color: #00af00\">371</span> (1.45 KB)\n",
       "</pre>\n"
      ],
      "text/plain": [
       "\u001b[1m Total params: \u001b[0m\u001b[38;5;34m371\u001b[0m (1.45 KB)\n"
      ]
     },
     "metadata": {},
     "output_type": "display_data"
    },
    {
     "data": {
      "text/html": [
       "<pre style=\"white-space:pre;overflow-x:auto;line-height:normal;font-family:Menlo,'DejaVu Sans Mono',consolas,'Courier New',monospace\"><span style=\"font-weight: bold\"> Trainable params: </span><span style=\"color: #00af00; text-decoration-color: #00af00\">371</span> (1.45 KB)\n",
       "</pre>\n"
      ],
      "text/plain": [
       "\u001b[1m Trainable params: \u001b[0m\u001b[38;5;34m371\u001b[0m (1.45 KB)\n"
      ]
     },
     "metadata": {},
     "output_type": "display_data"
    },
    {
     "data": {
      "text/html": [
       "<pre style=\"white-space:pre;overflow-x:auto;line-height:normal;font-family:Menlo,'DejaVu Sans Mono',consolas,'Courier New',monospace\"><span style=\"font-weight: bold\"> Non-trainable params: </span><span style=\"color: #00af00; text-decoration-color: #00af00\">0</span> (0.00 B)\n",
       "</pre>\n"
      ],
      "text/plain": [
       "\u001b[1m Non-trainable params: \u001b[0m\u001b[38;5;34m0\u001b[0m (0.00 B)\n"
      ]
     },
     "metadata": {},
     "output_type": "display_data"
    }
   ],
   "source": [
    "model.summary()"
   ]
  },
  {
   "cell_type": "code",
   "execution_count": 14,
   "id": "2d8f7054-5fb5-4cbf-b3b0-ef3211ddc626",
   "metadata": {},
   "outputs": [
    {
     "data": {
      "text/plain": [
       "[array([[ 0.09368956, -0.2315551 , -0.7006539 , -0.36993453,  0.5104602 ,\n",
       "          0.65361875,  0.00998861, -0.08417481,  0.58139473, -0.55653274],\n",
       "        [ 0.53645986, -0.06596535,  0.5735021 , -0.554376  , -0.27490652,\n",
       "         -0.35111982, -0.47436497, -0.14993203,  0.4421491 , -0.04744065]],\n",
       "       dtype=float32),\n",
       " array([0., 0., 0., 0., 0., 0., 0., 0., 0., 0.], dtype=float32),\n",
       " array([[-0.28256428, -0.4596194 , -0.01489729,  0.04374945,  0.13830143,\n",
       "          0.02222437, -0.5016526 , -0.19324991,  0.22004318, -0.401652  ],\n",
       "        [ 0.03698534,  0.43151575,  0.23222971, -0.11962849,  0.14057678,\n",
       "         -0.29780668,  0.37661374, -0.36859593, -0.08014256,  0.3525743 ],\n",
       "        [ 0.17812335, -0.34943014, -0.48991123,  0.08006632, -0.10234553,\n",
       "         -0.52757883,  0.1706872 , -0.29208827,  0.46471667, -0.42959884],\n",
       "        [-0.4017853 , -0.37589562,  0.00586754,  0.08009112, -0.23740655,\n",
       "          0.1626041 , -0.12130979,  0.46219456,  0.34494072,  0.5331112 ],\n",
       "        [-0.20203727, -0.4480669 , -0.36731136, -0.15638396, -0.42620435,\n",
       "         -0.14064062, -0.07290986, -0.47353753, -0.5204199 , -0.18452564],\n",
       "        [ 0.14726883,  0.26803386, -0.32916734,  0.14383793, -0.503182  ,\n",
       "         -0.2975472 ,  0.2696697 ,  0.01118386, -0.22932151, -0.15113762],\n",
       "        [-0.03208095,  0.20171225, -0.4865315 ,  0.12726587, -0.2147933 ,\n",
       "          0.4268198 ,  0.00667757,  0.48628795, -0.0256297 ,  0.419716  ],\n",
       "        [-0.0908353 , -0.4675138 , -0.12463534, -0.20041588, -0.43299097,\n",
       "          0.34724766, -0.07140863,  0.51641655, -0.07440144,  0.06119633],\n",
       "        [-0.2223582 ,  0.22416449,  0.07478207, -0.00428951,  0.03333354,\n",
       "         -0.14242053, -0.17094979,  0.22137463, -0.5108228 ,  0.23019409],\n",
       "        [-0.31857815, -0.05640206,  0.03669995,  0.26953232, -0.0923411 ,\n",
       "          0.13007873,  0.4696219 , -0.1690999 ,  0.1878103 , -0.40148315]],\n",
       "       dtype=float32),\n",
       " array([0., 0., 0., 0., 0., 0., 0., 0., 0., 0.], dtype=float32),\n",
       " array([[ 0.32890445,  0.32140338,  0.40710765, -0.28240967, -0.38570088,\n",
       "          0.10748637, -0.46584845,  0.5283967 , -0.29466787,  0.0612582 ],\n",
       "        [ 0.14279103,  0.11048871, -0.3217578 ,  0.46013498,  0.19511586,\n",
       "         -0.02475673,  0.41531205, -0.3505451 ,  0.30823356, -0.13824904],\n",
       "        [-0.3293687 ,  0.3622579 ,  0.3212241 ,  0.16813421, -0.14742777,\n",
       "          0.28092277, -0.50279963, -0.43144155, -0.45638987,  0.10670584],\n",
       "        [ 0.33101255, -0.28478426, -0.22235271, -0.17013296,  0.05565643,\n",
       "          0.24317211,  0.34763068,  0.2911991 , -0.20311579,  0.29761565],\n",
       "        [ 0.37072295,  0.081424  , -0.25672275, -0.47831   , -0.3160988 ,\n",
       "          0.5069889 ,  0.46618104, -0.08197236, -0.04637986,  0.41208303],\n",
       "        [ 0.00888896, -0.38060474,  0.23509842, -0.46106514, -0.30422544,\n",
       "          0.15092999,  0.30539382, -0.48316273,  0.12396032,  0.1062246 ],\n",
       "        [-0.45256183,  0.05483603,  0.27004594,  0.07421732,  0.4808234 ,\n",
       "         -0.48827443,  0.31934392,  0.03300279,  0.31059587, -0.18359467],\n",
       "        [-0.37890643,  0.2850368 , -0.5439796 , -0.00988442,  0.22221798,\n",
       "         -0.5343318 , -0.33839762,  0.26079303, -0.49906513,  0.25924194],\n",
       "        [-0.24232224, -0.15162563,  0.31078863, -0.38255244, -0.03687042,\n",
       "          0.01368344,  0.2747733 ,  0.2543065 , -0.06876293,  0.24236757],\n",
       "        [ 0.41880345,  0.01879805,  0.43329   ,  0.50329494,  0.4144168 ,\n",
       "         -0.35484952, -0.34360963, -0.51205087, -0.52718645, -0.50087595]],\n",
       "       dtype=float32),\n",
       " array([0., 0., 0., 0., 0., 0., 0., 0., 0., 0.], dtype=float32),\n",
       " array([[ 0.38076246,  0.32889545, -0.37114096, -0.4172992 ,  0.13851023,\n",
       "         -0.09497768, -0.10524678, -0.04412323, -0.06652701, -0.36884013],\n",
       "        [-0.36443293,  0.2108134 ,  0.13577664, -0.45456374, -0.19308695,\n",
       "          0.18581939,  0.42691582,  0.39040595, -0.12977657, -0.38927913],\n",
       "        [-0.21164533,  0.49263155,  0.44305807, -0.07488498,  0.3382181 ,\n",
       "         -0.3877288 ,  0.107364  ,  0.08997995,  0.36011988, -0.38493162],\n",
       "        [-0.13594928, -0.14712664, -0.42487395,  0.5394025 ,  0.29071605,\n",
       "          0.4420727 , -0.12288389,  0.31993115,  0.33301234, -0.35809776],\n",
       "        [-0.22194332, -0.5022748 ,  0.35724175,  0.2323271 , -0.41447502,\n",
       "          0.06756949, -0.45183316, -0.05244148,  0.34040004, -0.22309431],\n",
       "        [ 0.34499437, -0.13548818,  0.0781216 ,  0.18972981, -0.46806344,\n",
       "         -0.08395883, -0.50358266,  0.14211768,  0.03827828,  0.28934073],\n",
       "        [-0.22977725,  0.2801761 , -0.38965833, -0.3920794 , -0.27283722,\n",
       "         -0.3049912 ,  0.5332552 ,  0.02841681,  0.12279761, -0.44776106],\n",
       "        [-0.20122764,  0.383139  ,  0.14139986, -0.08370668,  0.32597423,\n",
       "         -0.08255163, -0.38450396,  0.38962257, -0.5349299 , -0.41193718],\n",
       "        [ 0.20019168, -0.22196826,  0.34109324, -0.46436247,  0.44737738,\n",
       "          0.33026046, -0.20571852,  0.38902098,  0.4123202 , -0.19266579],\n",
       "        [-0.41525868, -0.17376107, -0.35312736,  0.36228377,  0.06388837,\n",
       "          0.33124787, -0.05504277, -0.16452047, -0.4079185 , -0.272604  ]],\n",
       "       dtype=float32),\n",
       " array([0., 0., 0., 0., 0., 0., 0., 0., 0., 0.], dtype=float32),\n",
       " array([[ 0.56252426],\n",
       "        [ 0.11508769],\n",
       "        [-0.48114085],\n",
       "        [ 0.41476196],\n",
       "        [ 0.36968726],\n",
       "        [-0.5910237 ],\n",
       "        [-0.42279354],\n",
       "        [-0.5153395 ],\n",
       "        [-0.24785289],\n",
       "        [ 0.42190295]], dtype=float32),\n",
       " array([0.], dtype=float32)]"
      ]
     },
     "execution_count": 14,
     "metadata": {},
     "output_type": "execute_result"
    }
   ],
   "source": [
    "model.get_weights()"
   ]
  },
  {
   "cell_type": "code",
   "execution_count": 15,
   "id": "f081a055-3170-42f8-8074-27223b755591",
   "metadata": {},
   "outputs": [],
   "source": [
    "initial_weights = model.get_weights()"
   ]
  },
  {
   "cell_type": "code",
   "execution_count": 16,
   "id": "274aa0dc-5f46-4799-9488-360ac019e016",
   "metadata": {},
   "outputs": [],
   "source": [
    "initial_weights[0] = np.random.randn(2,10)*np.sqrt(1/2)\n",
    "initial_weights[1] = np.zeros(model.get_weights()[1].shape)\n",
    "initial_weights[2] = np.random.randn(10,10)*np.sqrt(1/10)\n",
    "initial_weights[3] = np.zeros(model.get_weights()[3].shape)\n",
    "initial_weights[4] = np.random.randn(10,10)*np.sqrt(1/10)\n",
    "initial_weights[5] = np.zeros(model.get_weights()[5].shape)\n",
    "initial_weights[6] = np.random.randn(10,10)*np.sqrt(1/10)\n",
    "initial_weights[7] = np.zeros(model.get_weights()[7].shape)\n",
    "initial_weights[8] = np.random.randn(10,1)*np.sqrt(1/10)\n",
    "initial_weights[9] = np.zeros(model.get_weights()[9].shape)"
   ]
  },
  {
   "cell_type": "code",
   "execution_count": 17,
   "id": "98af3250-6a2f-4678-9250-dca5d08a2b2a",
   "metadata": {},
   "outputs": [],
   "source": [
    "model.set_weights(initial_weights)"
   ]
  },
  {
   "cell_type": "code",
   "execution_count": 18,
   "id": "bca5ec1e-3978-436c-a100-9035cb50fb4f",
   "metadata": {},
   "outputs": [
    {
     "data": {
      "text/plain": [
       "[array([[ 0.42351493,  0.71763027,  1.4015733 ,  0.18971458,  0.29728758,\n",
       "         -1.1052272 , -0.14049233,  0.08987904,  0.8197062 ,  0.19910666],\n",
       "        [-0.43057543,  0.15752092, -0.5501943 , -0.10451689, -0.74344766,\n",
       "         -0.4858804 ,  0.33024982, -0.4127765 ,  0.62631106, -0.00310143]],\n",
       "       dtype=float32),\n",
       " array([0., 0., 0., 0., 0., 0., 0., 0., 0., 0.], dtype=float32),\n",
       " array([[ 0.27109182, -0.30627525, -0.04026283,  0.03706564, -0.3560615 ,\n",
       "         -0.23901057,  0.07447042, -0.5514721 ,  0.21319832, -0.13929795],\n",
       "        [-0.33276924,  0.36536232, -0.4242089 , -0.07823668,  0.33039308,\n",
       "         -0.1351614 ,  0.26760504,  0.38049722, -0.16713281, -0.09181792],\n",
       "        [ 0.34858215, -0.46425495, -0.49104834, -0.7662304 , -0.24710739,\n",
       "          0.00417854,  0.17024375, -0.09175581,  0.36038077,  0.24580204],\n",
       "        [ 0.1344761 , -0.0926929 ,  0.32117665, -0.1164939 , -0.14196981,\n",
       "         -0.3822285 ,  0.2694257 , -0.13067971,  0.10795337,  0.10403924],\n",
       "        [ 0.35655525, -0.26273558,  0.22625203, -0.40050006, -0.22357789,\n",
       "          0.21619739,  0.06656103,  0.17919053,  0.02843894,  0.19707547],\n",
       "        [ 0.33996263, -0.37693962,  0.31137067, -0.27991432, -0.36574453,\n",
       "         -0.10381172,  0.090125  ,  0.5276236 , -0.08879267, -0.16690266],\n",
       "        [ 0.1884675 ,  0.25229755,  0.1939619 , -0.5262382 , -0.3414649 ,\n",
       "          0.3308106 , -0.2716283 , -0.06700157,  0.16700311, -0.09950221],\n",
       "        [ 0.2533355 , -0.42210758,  0.15776573, -0.0630992 , -0.5666986 ,\n",
       "          0.02031507, -0.33633   , -0.46451658,  0.04814103, -0.34847662],\n",
       "        [ 0.26132515,  0.7627208 , -0.5196417 ,  0.06261615,  0.31938404,\n",
       "         -0.01108117, -0.42686027, -0.27048895,  0.37954983,  0.13489096],\n",
       "        [ 0.02083026, -0.35458344, -0.04591205,  0.11414586,  0.7571293 ,\n",
       "         -0.40404895,  0.36200482, -0.11831368, -0.02693838,  0.36231107]],\n",
       "       dtype=float32),\n",
       " array([0., 0., 0., 0., 0., 0., 0., 0., 0., 0.], dtype=float32),\n",
       " array([[-2.43136242e-01,  3.40990536e-02,  1.08324125e-01,\n",
       "         -2.58479148e-01,  1.18836686e-01, -3.49278659e-01,\n",
       "          1.60255089e-01, -6.93130314e-01, -3.31581116e-01,\n",
       "         -1.86892882e-01],\n",
       "        [-2.97011454e-02,  3.22618216e-01,  5.99127769e-01,\n",
       "          1.97257534e-01,  2.01273680e-01, -3.23026091e-01,\n",
       "          7.38732666e-02, -4.79075909e-01, -2.47214347e-01,\n",
       "          2.78842419e-01],\n",
       "        [-1.57908857e-01, -6.90107048e-01,  1.32363013e-04,\n",
       "          1.87903732e-01, -2.08563119e-01, -2.21532196e-01,\n",
       "         -8.65038708e-02, -1.31981939e-01, -3.42661917e-01,\n",
       "         -3.70770246e-01],\n",
       "        [-3.23720187e-01, -1.83095500e-01,  7.06731081e-02,\n",
       "         -6.37356490e-02,  9.47750986e-01, -2.90483180e-02,\n",
       "          2.15924487e-01,  7.90944323e-02,  2.31425270e-01,\n",
       "          1.96214378e-01],\n",
       "        [-1.15232579e-01,  9.43725090e-03, -2.11265936e-01,\n",
       "          7.95772001e-02, -7.61754513e-02,  2.02762738e-01,\n",
       "         -8.62067118e-02,  1.46067858e-01,  2.82606691e-01,\n",
       "          1.94240399e-02],\n",
       "        [-3.69756013e-01, -3.55802327e-01,  3.94543022e-01,\n",
       "          1.97112039e-01, -6.14788756e-02, -2.61324644e-01,\n",
       "         -1.14111297e-01, -2.75253206e-01, -5.16345382e-01,\n",
       "         -5.43481410e-01],\n",
       "        [ 2.72427857e-01,  5.80181360e-01,  8.52102280e-01,\n",
       "          1.57090724e-01, -8.76375139e-02, -1.51932716e-01,\n",
       "         -2.01613203e-01, -6.98782876e-02, -2.74105757e-01,\n",
       "          3.62703621e-01],\n",
       "        [ 2.97235340e-01, -2.86484301e-01, -6.29083693e-01,\n",
       "          4.15277213e-01,  2.76518520e-02, -3.95307094e-01,\n",
       "          5.13654709e-01, -1.69983715e-01, -3.27597290e-01,\n",
       "          1.96294442e-01],\n",
       "        [-5.52154660e-01, -2.42071852e-01, -3.85084331e-01,\n",
       "          1.79137324e-03,  1.57537997e-01,  1.81882873e-01,\n",
       "         -1.41991945e-02, -1.34060755e-01, -2.49289066e-01,\n",
       "         -1.76801398e-01],\n",
       "        [ 1.14771836e-01,  2.85296798e-01,  2.21711352e-01,\n",
       "          1.54415473e-01, -9.04228445e-03, -4.93169576e-03,\n",
       "         -2.29822755e-01, -1.90617666e-01,  1.23411536e-01,\n",
       "         -8.60179737e-02]], dtype=float32),\n",
       " array([0., 0., 0., 0., 0., 0., 0., 0., 0., 0.], dtype=float32),\n",
       " array([[ 0.3857359 ,  0.11012554, -0.0025421 , -0.27850842,  0.14437132,\n",
       "         -0.01667631, -0.02912395,  0.57203466,  0.10394571, -0.1727054 ],\n",
       "        [-0.20064999, -0.09067106,  0.49007565,  0.2698598 ,  0.09459295,\n",
       "          0.62187976,  0.12408297,  0.1695594 ,  0.3758634 , -0.04506223],\n",
       "        [ 0.12820356, -0.06044627, -0.16488308,  0.16190243, -0.31225094,\n",
       "          0.01824927, -0.5719616 , -0.07868969,  0.15560336,  0.13884552],\n",
       "        [-0.4076584 , -0.3824735 ,  0.3663934 ,  0.15358293, -0.9045494 ,\n",
       "         -0.187601  ,  0.80628467,  0.14036553,  0.06790176,  0.37511402],\n",
       "        [ 0.41188493,  0.6074985 ,  0.292814  ,  0.5822227 ,  0.39647493,\n",
       "         -0.44877368,  0.12109522, -0.38794675, -0.06307702,  0.09937634],\n",
       "        [-0.27413347, -0.12850252,  0.29722854,  0.01978726, -0.46671703,\n",
       "         -0.0548361 , -0.01849658,  0.00248732,  0.21674947, -0.3336863 ],\n",
       "        [-0.4770724 ,  0.46853864, -0.02921646,  0.21840435,  0.41438624,\n",
       "          0.07410453, -0.51032424,  0.56645685,  0.2597394 ,  0.11276437],\n",
       "        [ 0.3881405 , -0.27347997,  0.19426088,  0.2591094 , -0.32923052,\n",
       "          0.23763502, -0.02630216,  0.6872445 ,  0.0035516 , -0.03574505],\n",
       "        [ 0.44714868, -0.28611225, -0.5380853 , -0.06234565,  0.09620205,\n",
       "          0.1323223 ,  0.0064419 ,  0.14606068, -0.6924384 ,  0.31143993],\n",
       "        [ 0.3862047 ,  0.12743491,  0.05078704, -0.35721314, -0.02668317,\n",
       "         -0.3387218 ,  0.09417074, -0.5414153 ,  0.30264404,  0.4549511 ]],\n",
       "       dtype=float32),\n",
       " array([0., 0., 0., 0., 0., 0., 0., 0., 0., 0.], dtype=float32),\n",
       " array([[ 0.16365558],\n",
       "        [-0.01849812],\n",
       "        [ 0.3895384 ],\n",
       "        [ 0.09959071],\n",
       "        [ 0.08001278],\n",
       "        [-0.215409  ],\n",
       "        [ 0.03813829],\n",
       "        [ 0.23143719],\n",
       "        [ 0.13775995],\n",
       "        [-0.17481169]], dtype=float32),\n",
       " array([0.], dtype=float32)]"
      ]
     },
     "execution_count": 18,
     "metadata": {},
     "output_type": "execute_result"
    }
   ],
   "source": [
    "model.get_weights()"
   ]
  },
  {
   "cell_type": "code",
   "execution_count": 19,
   "id": "e193c06a-27fe-464a-8d57-00bf9b7c6858",
   "metadata": {},
   "outputs": [],
   "source": [
    "model.compile(loss='binary_crossentropy',optimizer='adam',metrics=['accuracy'])"
   ]
  },
  {
   "cell_type": "code",
   "execution_count": 20,
   "id": "4ae42ec6-4e7f-457f-9c59-617ab9bb9886",
   "metadata": {},
   "outputs": [
    {
     "name": "stdout",
     "output_type": "stream",
     "text": [
      "Epoch 1/100\n"
     ]
    },
    {
     "name": "stderr",
     "output_type": "stream",
     "text": [
      "WARNING: All log messages before absl::InitializeLog() is called are written to STDERR\n",
      "I0000 00:00:1748022323.223069   27871 service.cc:152] XLA service 0x7fb138003bc0 initialized for platform CUDA (this does not guarantee that XLA will be used). Devices:\n",
      "I0000 00:00:1748022323.223099   27871 service.cc:160]   StreamExecutor device (0): NVIDIA GeForce RTX 2050, Compute Capability 8.6\n",
      "2025-05-23 17:45:23.244710: I tensorflow/compiler/mlir/tensorflow/utils/dump_mlir_util.cc:269] disabling MLIR crash reproducer, set env var `MLIR_CRASH_REPRODUCER_DIRECTORY` to enable.\n",
      "I0000 00:00:1748022323.401700   27871 cuda_dnn.cc:529] Loaded cuDNN version 90300\n"
     ]
    },
    {
     "name": "stdout",
     "output_type": "stream",
     "text": [
      "\u001b[1m1/3\u001b[0m \u001b[32m━━━━━━\u001b[0m\u001b[37m━━━━━━━━━━━━━━\u001b[0m \u001b[1m3s\u001b[0m 2s/step - accuracy: 0.2500 - loss: 0.7086"
     ]
    },
    {
     "name": "stderr",
     "output_type": "stream",
     "text": [
      "I0000 00:00:1748022324.085175   27871 device_compiler.h:188] Compiled cluster using XLA!  This line is logged at most once for the lifetime of the process.\n"
     ]
    },
    {
     "name": "stdout",
     "output_type": "stream",
     "text": [
      "\u001b[1m3/3\u001b[0m \u001b[32m━━━━━━━━━━━━━━━━━━━━\u001b[0m\u001b[37m\u001b[0m \u001b[1m3s\u001b[0m 691ms/step - accuracy: 0.2579 - loss: 0.7099 - val_accuracy: 0.2000 - val_loss: 0.7059\n",
      "Epoch 2/100\n",
      "\u001b[1m3/3\u001b[0m \u001b[32m━━━━━━━━━━━━━━━━━━━━\u001b[0m\u001b[37m\u001b[0m \u001b[1m0s\u001b[0m 26ms/step - accuracy: 0.3915 - loss: 0.7010 - val_accuracy: 0.5500 - val_loss: 0.6933\n",
      "Epoch 3/100\n",
      "\u001b[1m3/3\u001b[0m \u001b[32m━━━━━━━━━━━━━━━━━━━━\u001b[0m\u001b[37m\u001b[0m \u001b[1m0s\u001b[0m 26ms/step - accuracy: 0.4764 - loss: 0.6927 - val_accuracy: 0.7500 - val_loss: 0.6809\n",
      "Epoch 4/100\n",
      "\u001b[1m3/3\u001b[0m \u001b[32m━━━━━━━━━━━━━━━━━━━━\u001b[0m\u001b[37m\u001b[0m \u001b[1m0s\u001b[0m 26ms/step - accuracy: 0.5534 - loss: 0.6834 - val_accuracy: 0.8000 - val_loss: 0.6692\n",
      "Epoch 5/100\n",
      "\u001b[1m3/3\u001b[0m \u001b[32m━━━━━━━━━━━━━━━━━━━━\u001b[0m\u001b[37m\u001b[0m \u001b[1m0s\u001b[0m 27ms/step - accuracy: 0.6479 - loss: 0.6772 - val_accuracy: 0.8500 - val_loss: 0.6583\n",
      "Epoch 6/100\n",
      "\u001b[1m3/3\u001b[0m \u001b[32m━━━━━━━━━━━━━━━━━━━━\u001b[0m\u001b[37m\u001b[0m \u001b[1m0s\u001b[0m 27ms/step - accuracy: 0.6997 - loss: 0.6688 - val_accuracy: 0.8500 - val_loss: 0.6471\n",
      "Epoch 7/100\n",
      "\u001b[1m3/3\u001b[0m \u001b[32m━━━━━━━━━━━━━━━━━━━━\u001b[0m\u001b[37m\u001b[0m \u001b[1m0s\u001b[0m 26ms/step - accuracy: 0.7153 - loss: 0.6570 - val_accuracy: 0.8500 - val_loss: 0.6359\n",
      "Epoch 8/100\n",
      "\u001b[1m3/3\u001b[0m \u001b[32m━━━━━━━━━━━━━━━━━━━━\u001b[0m\u001b[37m\u001b[0m \u001b[1m0s\u001b[0m 25ms/step - accuracy: 0.6928 - loss: 0.6565 - val_accuracy: 0.8500 - val_loss: 0.6255\n",
      "Epoch 9/100\n",
      "\u001b[1m3/3\u001b[0m \u001b[32m━━━━━━━━━━━━━━━━━━━━\u001b[0m\u001b[37m\u001b[0m \u001b[1m0s\u001b[0m 26ms/step - accuracy: 0.7577 - loss: 0.6434 - val_accuracy: 0.8500 - val_loss: 0.6147\n",
      "Epoch 10/100\n",
      "\u001b[1m3/3\u001b[0m \u001b[32m━━━━━━━━━━━━━━━━━━━━\u001b[0m\u001b[37m\u001b[0m \u001b[1m0s\u001b[0m 25ms/step - accuracy: 0.7187 - loss: 0.6396 - val_accuracy: 0.8500 - val_loss: 0.6042\n",
      "Epoch 11/100\n",
      "\u001b[1m3/3\u001b[0m \u001b[32m━━━━━━━━━━━━━━━━━━━━\u001b[0m\u001b[37m\u001b[0m \u001b[1m0s\u001b[0m 23ms/step - accuracy: 0.7147 - loss: 0.6331 - val_accuracy: 0.8500 - val_loss: 0.5936\n",
      "Epoch 12/100\n",
      "\u001b[1m3/3\u001b[0m \u001b[32m━━━━━━━━━━━━━━━━━━━━\u001b[0m\u001b[37m\u001b[0m \u001b[1m0s\u001b[0m 24ms/step - accuracy: 0.7304 - loss: 0.6257 - val_accuracy: 0.8500 - val_loss: 0.5832\n",
      "Epoch 13/100\n",
      "\u001b[1m3/3\u001b[0m \u001b[32m━━━━━━━━━━━━━━━━━━━━\u001b[0m\u001b[37m\u001b[0m \u001b[1m0s\u001b[0m 25ms/step - accuracy: 0.7719 - loss: 0.6116 - val_accuracy: 0.8500 - val_loss: 0.5727\n",
      "Epoch 14/100\n",
      "\u001b[1m3/3\u001b[0m \u001b[32m━━━━━━━━━━━━━━━━━━━━\u001b[0m\u001b[37m\u001b[0m \u001b[1m0s\u001b[0m 24ms/step - accuracy: 0.7601 - loss: 0.6066 - val_accuracy: 0.8500 - val_loss: 0.5623\n",
      "Epoch 15/100\n",
      "\u001b[1m3/3\u001b[0m \u001b[32m━━━━━━━━━━━━━━━━━━━━\u001b[0m\u001b[37m\u001b[0m \u001b[1m0s\u001b[0m 25ms/step - accuracy: 0.7469 - loss: 0.6045 - val_accuracy: 0.8500 - val_loss: 0.5522\n",
      "Epoch 16/100\n",
      "\u001b[1m3/3\u001b[0m \u001b[32m━━━━━━━━━━━━━━━━━━━━\u001b[0m\u001b[37m\u001b[0m \u001b[1m0s\u001b[0m 23ms/step - accuracy: 0.7445 - loss: 0.5910 - val_accuracy: 0.8500 - val_loss: 0.5420\n",
      "Epoch 17/100\n",
      "\u001b[1m3/3\u001b[0m \u001b[32m━━━━━━━━━━━━━━━━━━━━\u001b[0m\u001b[37m\u001b[0m \u001b[1m0s\u001b[0m 23ms/step - accuracy: 0.7626 - loss: 0.5812 - val_accuracy: 0.8500 - val_loss: 0.5321\n",
      "Epoch 18/100\n",
      "\u001b[1m3/3\u001b[0m \u001b[32m━━━━━━━━━━━━━━━━━━━━\u001b[0m\u001b[37m\u001b[0m \u001b[1m0s\u001b[0m 23ms/step - accuracy: 0.7626 - loss: 0.5743 - val_accuracy: 0.8500 - val_loss: 0.5223\n",
      "Epoch 19/100\n",
      "\u001b[1m3/3\u001b[0m \u001b[32m━━━━━━━━━━━━━━━━━━━━\u001b[0m\u001b[37m\u001b[0m \u001b[1m0s\u001b[0m 36ms/step - accuracy: 0.7626 - loss: 0.5644 - val_accuracy: 0.8500 - val_loss: 0.5123\n",
      "Epoch 20/100\n",
      "\u001b[1m3/3\u001b[0m \u001b[32m━━━━━━━━━━━━━━━━━━━━\u001b[0m\u001b[37m\u001b[0m \u001b[1m0s\u001b[0m 27ms/step - accuracy: 0.7743 - loss: 0.5499 - val_accuracy: 0.8500 - val_loss: 0.5027\n",
      "Epoch 21/100\n",
      "\u001b[1m3/3\u001b[0m \u001b[32m━━━━━━━━━━━━━━━━━━━━\u001b[0m\u001b[37m\u001b[0m \u001b[1m0s\u001b[0m 24ms/step - accuracy: 0.7908 - loss: 0.5511 - val_accuracy: 0.8500 - val_loss: 0.4932\n",
      "Epoch 22/100\n",
      "\u001b[1m3/3\u001b[0m \u001b[32m━━━━━━━━━━━━━━━━━━━━\u001b[0m\u001b[37m\u001b[0m \u001b[1m0s\u001b[0m 23ms/step - accuracy: 0.7572 - loss: 0.5550 - val_accuracy: 0.8500 - val_loss: 0.4839\n",
      "Epoch 23/100\n",
      "\u001b[1m3/3\u001b[0m \u001b[32m━━━━━━━━━━━━━━━━━━━━\u001b[0m\u001b[37m\u001b[0m \u001b[1m0s\u001b[0m 23ms/step - accuracy: 0.7830 - loss: 0.5400 - val_accuracy: 0.8500 - val_loss: 0.4742\n",
      "Epoch 24/100\n",
      "\u001b[1m3/3\u001b[0m \u001b[32m━━━━━━━━━━━━━━━━━━━━\u001b[0m\u001b[37m\u001b[0m \u001b[1m0s\u001b[0m 25ms/step - accuracy: 0.8143 - loss: 0.5161 - val_accuracy: 0.8500 - val_loss: 0.4648\n",
      "Epoch 25/100\n",
      "\u001b[1m3/3\u001b[0m \u001b[32m━━━━━━━━━━━━━━━━━━━━\u001b[0m\u001b[37m\u001b[0m \u001b[1m0s\u001b[0m 23ms/step - accuracy: 0.7830 - loss: 0.5312 - val_accuracy: 0.8500 - val_loss: 0.4561\n",
      "Epoch 26/100\n",
      "\u001b[1m3/3\u001b[0m \u001b[32m━━━━━━━━━━━━━━━━━━━━\u001b[0m\u001b[37m\u001b[0m \u001b[1m0s\u001b[0m 23ms/step - accuracy: 0.7987 - loss: 0.5017 - val_accuracy: 0.8500 - val_loss: 0.4473\n",
      "Epoch 27/100\n",
      "\u001b[1m3/3\u001b[0m \u001b[32m━━━━━━━━━━━━━━━━━━━━\u001b[0m\u001b[37m\u001b[0m \u001b[1m0s\u001b[0m 22ms/step - accuracy: 0.7894 - loss: 0.5035 - val_accuracy: 0.8500 - val_loss: 0.4386\n",
      "Epoch 28/100\n",
      "\u001b[1m3/3\u001b[0m \u001b[32m━━━━━━━━━━━━━━━━━━━━\u001b[0m\u001b[37m\u001b[0m \u001b[1m0s\u001b[0m 23ms/step - accuracy: 0.8074 - loss: 0.5038 - val_accuracy: 0.8500 - val_loss: 0.4296\n",
      "Epoch 29/100\n",
      "\u001b[1m3/3\u001b[0m \u001b[32m━━━━━━━━━━━━━━━━━━━━\u001b[0m\u001b[37m\u001b[0m \u001b[1m0s\u001b[0m 25ms/step - accuracy: 0.8426 - loss: 0.4713 - val_accuracy: 0.8500 - val_loss: 0.4209\n",
      "Epoch 30/100\n",
      "\u001b[1m3/3\u001b[0m \u001b[32m━━━━━━━━━━━━━━━━━━━━\u001b[0m\u001b[37m\u001b[0m \u001b[1m0s\u001b[0m 24ms/step - accuracy: 0.8074 - loss: 0.4870 - val_accuracy: 0.8500 - val_loss: 0.4128\n",
      "Epoch 31/100\n",
      "\u001b[1m3/3\u001b[0m \u001b[32m━━━━━━━━━━━━━━━━━━━━\u001b[0m\u001b[37m\u001b[0m \u001b[1m0s\u001b[0m 23ms/step - accuracy: 0.7840 - loss: 0.4917 - val_accuracy: 0.8500 - val_loss: 0.4049\n",
      "Epoch 32/100\n",
      "\u001b[1m3/3\u001b[0m \u001b[32m━━━━━━━━━━━━━━━━━━━━\u001b[0m\u001b[37m\u001b[0m \u001b[1m0s\u001b[0m 22ms/step - accuracy: 0.8113 - loss: 0.4727 - val_accuracy: 0.8500 - val_loss: 0.3967\n",
      "Epoch 33/100\n",
      "\u001b[1m3/3\u001b[0m \u001b[32m━━━━━━━━━━━━━━━━━━━━\u001b[0m\u001b[37m\u001b[0m \u001b[1m0s\u001b[0m 23ms/step - accuracy: 0.8176 - loss: 0.4809 - val_accuracy: 0.8500 - val_loss: 0.3889\n",
      "Epoch 34/100\n",
      "\u001b[1m3/3\u001b[0m \u001b[32m━━━━━━━━━━━━━━━━━━━━\u001b[0m\u001b[37m\u001b[0m \u001b[1m0s\u001b[0m 23ms/step - accuracy: 0.8294 - loss: 0.4589 - val_accuracy: 0.8500 - val_loss: 0.3814\n",
      "Epoch 35/100\n",
      "\u001b[1m3/3\u001b[0m \u001b[32m━━━━━━━━━━━━━━━━━━━━\u001b[0m\u001b[37m\u001b[0m \u001b[1m0s\u001b[0m 23ms/step - accuracy: 0.8411 - loss: 0.4432 - val_accuracy: 0.8500 - val_loss: 0.3740\n",
      "Epoch 36/100\n",
      "\u001b[1m3/3\u001b[0m \u001b[32m━━━━━━━━━━━━━━━━━━━━\u001b[0m\u001b[37m\u001b[0m \u001b[1m0s\u001b[0m 24ms/step - accuracy: 0.8318 - loss: 0.4518 - val_accuracy: 0.9000 - val_loss: 0.3677\n",
      "Epoch 37/100\n",
      "\u001b[1m3/3\u001b[0m \u001b[32m━━━━━━━━━━━━━━━━━━━━\u001b[0m\u001b[37m\u001b[0m \u001b[1m0s\u001b[0m 23ms/step - accuracy: 0.7927 - loss: 0.4842 - val_accuracy: 0.9000 - val_loss: 0.3621\n",
      "Epoch 38/100\n",
      "\u001b[1m3/3\u001b[0m \u001b[32m━━━━━━━━━━━━━━━━━━━━\u001b[0m\u001b[37m\u001b[0m \u001b[1m0s\u001b[0m 23ms/step - accuracy: 0.8513 - loss: 0.4281 - val_accuracy: 0.9000 - val_loss: 0.3561\n",
      "Epoch 39/100\n",
      "\u001b[1m3/3\u001b[0m \u001b[32m━━━━━━━━━━━━━━━━━━━━\u001b[0m\u001b[37m\u001b[0m \u001b[1m0s\u001b[0m 23ms/step - accuracy: 0.8459 - loss: 0.4373 - val_accuracy: 0.9000 - val_loss: 0.3504\n",
      "Epoch 40/100\n",
      "\u001b[1m3/3\u001b[0m \u001b[32m━━━━━━━━━━━━━━━━━━━━\u001b[0m\u001b[37m\u001b[0m \u001b[1m0s\u001b[0m 24ms/step - accuracy: 0.8537 - loss: 0.4395 - val_accuracy: 0.9000 - val_loss: 0.3448\n",
      "Epoch 41/100\n",
      "\u001b[1m3/3\u001b[0m \u001b[32m━━━━━━━━━━━━━━━━━━━━\u001b[0m\u001b[37m\u001b[0m \u001b[1m0s\u001b[0m 24ms/step - accuracy: 0.8537 - loss: 0.4296 - val_accuracy: 0.9000 - val_loss: 0.3395\n",
      "Epoch 42/100\n",
      "\u001b[1m3/3\u001b[0m \u001b[32m━━━━━━━━━━━━━━━━━━━━\u001b[0m\u001b[37m\u001b[0m \u001b[1m0s\u001b[0m 24ms/step - accuracy: 0.8381 - loss: 0.4456 - val_accuracy: 0.9000 - val_loss: 0.3344\n",
      "Epoch 43/100\n",
      "\u001b[1m3/3\u001b[0m \u001b[32m━━━━━━━━━━━━━━━━━━━━\u001b[0m\u001b[37m\u001b[0m \u001b[1m0s\u001b[0m 23ms/step - accuracy: 0.8576 - loss: 0.4079 - val_accuracy: 0.9000 - val_loss: 0.3294\n",
      "Epoch 44/100\n",
      "\u001b[1m3/3\u001b[0m \u001b[32m━━━━━━━━━━━━━━━━━━━━\u001b[0m\u001b[37m\u001b[0m \u001b[1m0s\u001b[0m 37ms/step - accuracy: 0.8420 - loss: 0.4275 - val_accuracy: 0.9000 - val_loss: 0.3248\n",
      "Epoch 45/100\n",
      "\u001b[1m3/3\u001b[0m \u001b[32m━━━━━━━━━━━━━━━━━━━━\u001b[0m\u001b[37m\u001b[0m \u001b[1m0s\u001b[0m 24ms/step - accuracy: 0.8537 - loss: 0.4156 - val_accuracy: 0.9000 - val_loss: 0.3204\n",
      "Epoch 46/100\n",
      "\u001b[1m3/3\u001b[0m \u001b[32m━━━━━━━━━━━━━━━━━━━━\u001b[0m\u001b[37m\u001b[0m \u001b[1m0s\u001b[0m 25ms/step - accuracy: 0.8264 - loss: 0.4230 - val_accuracy: 0.9000 - val_loss: 0.3164\n",
      "Epoch 47/100\n",
      "\u001b[1m3/3\u001b[0m \u001b[32m━━━━━━━━━━━━━━━━━━━━\u001b[0m\u001b[37m\u001b[0m \u001b[1m0s\u001b[0m 24ms/step - accuracy: 0.8772 - loss: 0.3744 - val_accuracy: 0.9000 - val_loss: 0.3119\n",
      "Epoch 48/100\n",
      "\u001b[1m3/3\u001b[0m \u001b[32m━━━━━━━━━━━━━━━━━━━━\u001b[0m\u001b[37m\u001b[0m \u001b[1m0s\u001b[0m 25ms/step - accuracy: 0.8655 - loss: 0.3959 - val_accuracy: 0.9000 - val_loss: 0.3085\n",
      "Epoch 49/100\n",
      "\u001b[1m3/3\u001b[0m \u001b[32m━━━━━━━━━━━━━━━━━━━━\u001b[0m\u001b[37m\u001b[0m \u001b[1m0s\u001b[0m 23ms/step - accuracy: 0.8694 - loss: 0.3796 - val_accuracy: 0.9000 - val_loss: 0.3060\n",
      "Epoch 50/100\n",
      "\u001b[1m3/3\u001b[0m \u001b[32m━━━━━━━━━━━━━━━━━━━━\u001b[0m\u001b[37m\u001b[0m \u001b[1m0s\u001b[0m 24ms/step - accuracy: 0.8264 - loss: 0.4335 - val_accuracy: 0.9000 - val_loss: 0.3042\n",
      "Epoch 51/100\n",
      "\u001b[1m3/3\u001b[0m \u001b[32m━━━━━━━━━━━━━━━━━━━━\u001b[0m\u001b[37m\u001b[0m \u001b[1m0s\u001b[0m 23ms/step - accuracy: 0.8381 - loss: 0.4052 - val_accuracy: 0.9000 - val_loss: 0.3023\n",
      "Epoch 52/100\n",
      "\u001b[1m3/3\u001b[0m \u001b[32m━━━━━━━━━━━━━━━━━━━━\u001b[0m\u001b[37m\u001b[0m \u001b[1m0s\u001b[0m 23ms/step - accuracy: 0.8444 - loss: 0.4239 - val_accuracy: 0.9000 - val_loss: 0.3003\n",
      "Epoch 53/100\n",
      "\u001b[1m3/3\u001b[0m \u001b[32m━━━━━━━━━━━━━━━━━━━━\u001b[0m\u001b[37m\u001b[0m \u001b[1m0s\u001b[0m 23ms/step - accuracy: 0.8562 - loss: 0.4160 - val_accuracy: 0.9000 - val_loss: 0.2982\n",
      "Epoch 54/100\n",
      "\u001b[1m3/3\u001b[0m \u001b[32m━━━━━━━━━━━━━━━━━━━━\u001b[0m\u001b[37m\u001b[0m \u001b[1m0s\u001b[0m 23ms/step - accuracy: 0.8718 - loss: 0.3920 - val_accuracy: 0.9000 - val_loss: 0.2954\n",
      "Epoch 55/100\n",
      "\u001b[1m3/3\u001b[0m \u001b[32m━━━━━━━━━━━━━━━━━━━━\u001b[0m\u001b[37m\u001b[0m \u001b[1m0s\u001b[0m 23ms/step - accuracy: 0.8640 - loss: 0.4003 - val_accuracy: 0.9000 - val_loss: 0.2928\n",
      "Epoch 56/100\n",
      "\u001b[1m3/3\u001b[0m \u001b[32m━━━━━━━━━━━━━━━━━━━━\u001b[0m\u001b[37m\u001b[0m \u001b[1m0s\u001b[0m 26ms/step - accuracy: 0.8640 - loss: 0.3897 - val_accuracy: 0.9000 - val_loss: 0.2906\n",
      "Epoch 57/100\n",
      "\u001b[1m3/3\u001b[0m \u001b[32m━━━━━━━━━━━━━━━━━━━━\u001b[0m\u001b[37m\u001b[0m \u001b[1m0s\u001b[0m 24ms/step - accuracy: 0.8601 - loss: 0.3885 - val_accuracy: 0.9000 - val_loss: 0.2883\n",
      "Epoch 58/100\n",
      "\u001b[1m3/3\u001b[0m \u001b[32m━━━━━━━━━━━━━━━━━━━━\u001b[0m\u001b[37m\u001b[0m \u001b[1m0s\u001b[0m 24ms/step - accuracy: 0.8405 - loss: 0.4110 - val_accuracy: 0.9000 - val_loss: 0.2859\n",
      "Epoch 59/100\n",
      "\u001b[1m3/3\u001b[0m \u001b[32m━━━━━━━━━━━━━━━━━━━━\u001b[0m\u001b[37m\u001b[0m \u001b[1m0s\u001b[0m 25ms/step - accuracy: 0.8679 - loss: 0.3738 - val_accuracy: 0.9000 - val_loss: 0.2833\n",
      "Epoch 60/100\n",
      "\u001b[1m3/3\u001b[0m \u001b[32m━━━━━━━━━━━━━━━━━━━━\u001b[0m\u001b[37m\u001b[0m \u001b[1m0s\u001b[0m 24ms/step - accuracy: 0.8366 - loss: 0.4306 - val_accuracy: 0.9000 - val_loss: 0.2813\n",
      "Epoch 61/100\n",
      "\u001b[1m3/3\u001b[0m \u001b[32m━━━━━━━━━━━━━━━━━━━━\u001b[0m\u001b[37m\u001b[0m \u001b[1m0s\u001b[0m 23ms/step - accuracy: 0.8796 - loss: 0.3673 - val_accuracy: 0.9000 - val_loss: 0.2792\n",
      "Epoch 62/100\n",
      "\u001b[1m3/3\u001b[0m \u001b[32m━━━━━━━━━━━━━━━━━━━━\u001b[0m\u001b[37m\u001b[0m \u001b[1m0s\u001b[0m 23ms/step - accuracy: 0.8835 - loss: 0.3502 - val_accuracy: 0.9000 - val_loss: 0.2778\n",
      "Epoch 63/100\n",
      "\u001b[1m3/3\u001b[0m \u001b[32m━━━━━━━━━━━━━━━━━━━━\u001b[0m\u001b[37m\u001b[0m \u001b[1m0s\u001b[0m 24ms/step - accuracy: 0.8562 - loss: 0.3909 - val_accuracy: 0.9000 - val_loss: 0.2772\n",
      "Epoch 64/100\n",
      "\u001b[1m3/3\u001b[0m \u001b[32m━━━━━━━━━━━━━━━━━━━━\u001b[0m\u001b[37m\u001b[0m \u001b[1m0s\u001b[0m 28ms/step - accuracy: 0.8718 - loss: 0.3643 - val_accuracy: 0.9000 - val_loss: 0.2761\n",
      "Epoch 65/100\n",
      "\u001b[1m3/3\u001b[0m \u001b[32m━━━━━━━━━━━━━━━━━━━━\u001b[0m\u001b[37m\u001b[0m \u001b[1m0s\u001b[0m 31ms/step - accuracy: 0.8366 - loss: 0.4404 - val_accuracy: 0.9000 - val_loss: 0.2753\n",
      "Epoch 66/100\n",
      "\u001b[1m3/3\u001b[0m \u001b[32m━━━━━━━━━━━━━━━━━━━━\u001b[0m\u001b[37m\u001b[0m \u001b[1m0s\u001b[0m 24ms/step - accuracy: 0.8366 - loss: 0.4233 - val_accuracy: 0.9000 - val_loss: 0.2739\n",
      "Epoch 67/100\n",
      "\u001b[1m3/3\u001b[0m \u001b[32m━━━━━━━━━━━━━━━━━━━━\u001b[0m\u001b[37m\u001b[0m \u001b[1m0s\u001b[0m 23ms/step - accuracy: 0.8483 - loss: 0.4099 - val_accuracy: 0.9000 - val_loss: 0.2721\n",
      "Epoch 68/100\n",
      "\u001b[1m3/3\u001b[0m \u001b[32m━━━━━━━━━━━━━━━━━━━━\u001b[0m\u001b[37m\u001b[0m \u001b[1m0s\u001b[0m 24ms/step - accuracy: 0.8640 - loss: 0.3724 - val_accuracy: 0.9000 - val_loss: 0.2701\n",
      "Epoch 69/100\n",
      "\u001b[1m3/3\u001b[0m \u001b[32m━━━━━━━━━━━━━━━━━━━━\u001b[0m\u001b[37m\u001b[0m \u001b[1m0s\u001b[0m 23ms/step - accuracy: 0.8562 - loss: 0.3973 - val_accuracy: 0.9000 - val_loss: 0.2695\n",
      "Epoch 70/100\n",
      "\u001b[1m3/3\u001b[0m \u001b[32m━━━━━━━━━━━━━━━━━━━━\u001b[0m\u001b[37m\u001b[0m \u001b[1m0s\u001b[0m 24ms/step - accuracy: 0.8523 - loss: 0.3969 - val_accuracy: 0.9000 - val_loss: 0.2688\n",
      "Epoch 71/100\n",
      "\u001b[1m3/3\u001b[0m \u001b[32m━━━━━━━━━━━━━━━━━━━━\u001b[0m\u001b[37m\u001b[0m \u001b[1m0s\u001b[0m 23ms/step - accuracy: 0.8796 - loss: 0.3469 - val_accuracy: 0.9000 - val_loss: 0.2680\n",
      "Epoch 72/100\n",
      "\u001b[1m3/3\u001b[0m \u001b[32m━━━━━━━━━━━━━━━━━━━━\u001b[0m\u001b[37m\u001b[0m \u001b[1m0s\u001b[0m 23ms/step - accuracy: 0.8640 - loss: 0.3696 - val_accuracy: 0.9000 - val_loss: 0.2672\n",
      "Epoch 73/100\n",
      "\u001b[1m3/3\u001b[0m \u001b[32m━━━━━━━━━━━━━━━━━━━━\u001b[0m\u001b[37m\u001b[0m \u001b[1m0s\u001b[0m 23ms/step - accuracy: 0.8679 - loss: 0.3718 - val_accuracy: 0.9000 - val_loss: 0.2662\n",
      "Epoch 74/100\n",
      "\u001b[1m3/3\u001b[0m \u001b[32m━━━━━━━━━━━━━━━━━━━━\u001b[0m\u001b[37m\u001b[0m \u001b[1m0s\u001b[0m 25ms/step - accuracy: 0.8679 - loss: 0.3769 - val_accuracy: 0.9000 - val_loss: 0.2652\n",
      "Epoch 75/100\n",
      "\u001b[1m3/3\u001b[0m \u001b[32m━━━━━━━━━━━━━━━━━━━━\u001b[0m\u001b[37m\u001b[0m \u001b[1m0s\u001b[0m 25ms/step - accuracy: 0.8640 - loss: 0.3849 - val_accuracy: 0.9000 - val_loss: 0.2642\n",
      "Epoch 76/100\n",
      "\u001b[1m3/3\u001b[0m \u001b[32m━━━━━━━━━━━━━━━━━━━━\u001b[0m\u001b[37m\u001b[0m \u001b[1m0s\u001b[0m 24ms/step - accuracy: 0.8288 - loss: 0.4334 - val_accuracy: 0.9000 - val_loss: 0.2638\n",
      "Epoch 77/100\n",
      "\u001b[1m3/3\u001b[0m \u001b[32m━━━━━━━━━━━━━━━━━━━━\u001b[0m\u001b[37m\u001b[0m \u001b[1m0s\u001b[0m 24ms/step - accuracy: 0.8405 - loss: 0.4053 - val_accuracy: 0.9000 - val_loss: 0.2640\n",
      "Epoch 78/100\n",
      "\u001b[1m3/3\u001b[0m \u001b[32m━━━━━━━━━━━━━━━━━━━━\u001b[0m\u001b[37m\u001b[0m \u001b[1m0s\u001b[0m 24ms/step - accuracy: 0.8405 - loss: 0.4151 - val_accuracy: 0.9000 - val_loss: 0.2639\n",
      "Epoch 79/100\n",
      "\u001b[1m3/3\u001b[0m \u001b[32m━━━━━━━━━━━━━━━━━━━━\u001b[0m\u001b[37m\u001b[0m \u001b[1m0s\u001b[0m 24ms/step - accuracy: 0.8523 - loss: 0.3953 - val_accuracy: 0.9000 - val_loss: 0.2624\n",
      "Epoch 80/100\n",
      "\u001b[1m3/3\u001b[0m \u001b[32m━━━━━━━━━━━━━━━━━━━━\u001b[0m\u001b[37m\u001b[0m \u001b[1m0s\u001b[0m 36ms/step - accuracy: 0.8483 - loss: 0.3956 - val_accuracy: 0.9000 - val_loss: 0.2608\n",
      "Epoch 81/100\n",
      "\u001b[1m3/3\u001b[0m \u001b[32m━━━━━━━━━━━━━━━━━━━━\u001b[0m\u001b[37m\u001b[0m \u001b[1m0s\u001b[0m 25ms/step - accuracy: 0.8327 - loss: 0.4359 - val_accuracy: 0.9000 - val_loss: 0.2600\n",
      "Epoch 82/100\n",
      "\u001b[1m3/3\u001b[0m \u001b[32m━━━━━━━━━━━━━━━━━━━━\u001b[0m\u001b[37m\u001b[0m \u001b[1m0s\u001b[0m 24ms/step - accuracy: 0.8679 - loss: 0.3645 - val_accuracy: 0.9000 - val_loss: 0.2587\n",
      "Epoch 83/100\n",
      "\u001b[1m3/3\u001b[0m \u001b[32m━━━━━━━━━━━━━━━━━━━━\u001b[0m\u001b[37m\u001b[0m \u001b[1m0s\u001b[0m 23ms/step - accuracy: 0.8523 - loss: 0.3989 - val_accuracy: 0.9000 - val_loss: 0.2571\n",
      "Epoch 84/100\n",
      "\u001b[1m3/3\u001b[0m \u001b[32m━━━━━━━━━━━━━━━━━━━━\u001b[0m\u001b[37m\u001b[0m \u001b[1m0s\u001b[0m 23ms/step - accuracy: 0.8523 - loss: 0.3971 - val_accuracy: 0.9000 - val_loss: 0.2567\n",
      "Epoch 85/100\n",
      "\u001b[1m3/3\u001b[0m \u001b[32m━━━━━━━━━━━━━━━━━━━━\u001b[0m\u001b[37m\u001b[0m \u001b[1m0s\u001b[0m 24ms/step - accuracy: 0.8601 - loss: 0.3736 - val_accuracy: 0.9000 - val_loss: 0.2560\n",
      "Epoch 86/100\n",
      "\u001b[1m3/3\u001b[0m \u001b[32m━━━━━━━━━━━━━━━━━━━━\u001b[0m\u001b[37m\u001b[0m \u001b[1m0s\u001b[0m 23ms/step - accuracy: 0.8640 - loss: 0.3750 - val_accuracy: 0.9000 - val_loss: 0.2558\n",
      "Epoch 87/100\n",
      "\u001b[1m3/3\u001b[0m \u001b[32m━━━━━━━━━━━━━━━━━━━━\u001b[0m\u001b[37m\u001b[0m \u001b[1m0s\u001b[0m 23ms/step - accuracy: 0.8640 - loss: 0.3833 - val_accuracy: 0.9000 - val_loss: 0.2559\n",
      "Epoch 88/100\n",
      "\u001b[1m3/3\u001b[0m \u001b[32m━━━━━━━━━━━━━━━━━━━━\u001b[0m\u001b[37m\u001b[0m \u001b[1m0s\u001b[0m 23ms/step - accuracy: 0.8444 - loss: 0.4099 - val_accuracy: 0.9000 - val_loss: 0.2563\n",
      "Epoch 89/100\n",
      "\u001b[1m3/3\u001b[0m \u001b[32m━━━━━━━━━━━━━━━━━━━━\u001b[0m\u001b[37m\u001b[0m \u001b[1m0s\u001b[0m 24ms/step - accuracy: 0.8640 - loss: 0.3757 - val_accuracy: 0.9000 - val_loss: 0.2558\n",
      "Epoch 90/100\n",
      "\u001b[1m3/3\u001b[0m \u001b[32m━━━━━━━━━━━━━━━━━━━━\u001b[0m\u001b[37m\u001b[0m \u001b[1m0s\u001b[0m 24ms/step - accuracy: 0.8679 - loss: 0.3732 - val_accuracy: 0.9000 - val_loss: 0.2565\n",
      "Epoch 91/100\n",
      "\u001b[1m3/3\u001b[0m \u001b[32m━━━━━━━━━━━━━━━━━━━━\u001b[0m\u001b[37m\u001b[0m \u001b[1m0s\u001b[0m 24ms/step - accuracy: 0.8523 - loss: 0.4158 - val_accuracy: 0.9000 - val_loss: 0.2574\n",
      "Epoch 92/100\n",
      "\u001b[1m3/3\u001b[0m \u001b[32m━━━━━━━━━━━━━━━━━━━━\u001b[0m\u001b[37m\u001b[0m \u001b[1m0s\u001b[0m 24ms/step - accuracy: 0.8757 - loss: 0.3540 - val_accuracy: 0.9000 - val_loss: 0.2576\n",
      "Epoch 93/100\n",
      "\u001b[1m3/3\u001b[0m \u001b[32m━━━━━━━━━━━━━━━━━━━━\u001b[0m\u001b[37m\u001b[0m \u001b[1m0s\u001b[0m 24ms/step - accuracy: 0.8601 - loss: 0.3937 - val_accuracy: 0.9000 - val_loss: 0.2597\n",
      "Epoch 94/100\n",
      "\u001b[1m3/3\u001b[0m \u001b[32m━━━━━━━━━━━━━━━━━━━━\u001b[0m\u001b[37m\u001b[0m \u001b[1m0s\u001b[0m 24ms/step - accuracy: 0.8562 - loss: 0.3740 - val_accuracy: 0.9000 - val_loss: 0.2604\n",
      "Epoch 95/100\n",
      "\u001b[1m3/3\u001b[0m \u001b[32m━━━━━━━━━━━━━━━━━━━━\u001b[0m\u001b[37m\u001b[0m \u001b[1m0s\u001b[0m 25ms/step - accuracy: 0.8640 - loss: 0.3727 - val_accuracy: 0.9000 - val_loss: 0.2599\n",
      "Epoch 96/100\n",
      "\u001b[1m3/3\u001b[0m \u001b[32m━━━━━━━━━━━━━━━━━━━━\u001b[0m\u001b[37m\u001b[0m \u001b[1m0s\u001b[0m 23ms/step - accuracy: 0.8640 - loss: 0.3684 - val_accuracy: 0.9000 - val_loss: 0.2586\n",
      "Epoch 97/100\n",
      "\u001b[1m3/3\u001b[0m \u001b[32m━━━━━━━━━━━━━━━━━━━━\u001b[0m\u001b[37m\u001b[0m \u001b[1m0s\u001b[0m 38ms/step - accuracy: 0.8444 - loss: 0.4030 - val_accuracy: 0.9000 - val_loss: 0.2574\n",
      "Epoch 98/100\n",
      "\u001b[1m3/3\u001b[0m \u001b[32m━━━━━━━━━━━━━━━━━━━━\u001b[0m\u001b[37m\u001b[0m \u001b[1m0s\u001b[0m 24ms/step - accuracy: 0.8757 - loss: 0.3457 - val_accuracy: 0.9000 - val_loss: 0.2557\n",
      "Epoch 99/100\n",
      "\u001b[1m3/3\u001b[0m \u001b[32m━━━━━━━━━━━━━━━━━━━━\u001b[0m\u001b[37m\u001b[0m \u001b[1m0s\u001b[0m 24ms/step - accuracy: 0.8483 - loss: 0.3852 - val_accuracy: 0.9000 - val_loss: 0.2552\n",
      "Epoch 100/100\n",
      "\u001b[1m3/3\u001b[0m \u001b[32m━━━━━━━━━━━━━━━━━━━━\u001b[0m\u001b[37m\u001b[0m \u001b[1m0s\u001b[0m 26ms/step - accuracy: 0.8640 - loss: 0.3632 - val_accuracy: 0.9000 - val_loss: 0.2537\n"
     ]
    }
   ],
   "source": [
    "history = model.fit(X,y,epochs=100,validation_split=0.2)"
   ]
  },
  {
   "cell_type": "code",
   "execution_count": 21,
   "id": "ca3b372c-f3a9-41a4-93b9-8ebda7919a27",
   "metadata": {},
   "outputs": [
    {
     "data": {
      "text/plain": [
       "[array([[ 0.43895668,  0.77573586,  1.2141361 ,  0.2739754 ,  0.3880278 ,\n",
       "         -1.1961224 , -0.2206576 ,  0.23868378,  0.8539482 ,  0.23342128],\n",
       "        [-0.55665773,  0.09324461, -0.65819323, -0.25482097, -0.7730189 ,\n",
       "         -0.5830932 ,  0.4125369 , -0.4530431 ,  0.73709446, -0.1361841 ]],\n",
       "       dtype=float32),\n",
       " array([-0.03133192,  0.02848324,  0.10185623, -0.08658738, -0.02240261,\n",
       "         0.21031676, -0.00548251,  0.02975678, -0.11656457, -0.0790268 ],\n",
       "       dtype=float32),\n",
       " array([[ 1.97176307e-01, -4.52199101e-01, -9.57139358e-02,\n",
       "         -8.24059770e-02, -5.11105061e-01, -3.59439641e-01,\n",
       "          2.06773594e-01, -5.44985235e-01,  2.66393274e-01,\n",
       "         -1.64239019e-01],\n",
       "        [-3.85816753e-01,  2.61626124e-01, -3.52778733e-01,\n",
       "         -4.27961089e-02,  2.23160535e-01, -8.72134790e-02,\n",
       "          2.42854372e-01,  5.61093330e-01, -1.27042860e-01,\n",
       "         -2.20985621e-01],\n",
       "        [ 2.79352129e-01, -5.41079760e-01, -5.07465422e-01,\n",
       "         -7.54057646e-01, -3.24827135e-01, -4.76884743e-05,\n",
       "          1.86764359e-01,  3.46950330e-02,  4.24434662e-01,\n",
       "          1.32377774e-01],\n",
       "        [ 5.12410514e-02, -2.60869056e-01,  3.10833067e-01,\n",
       "         -2.59806156e-01, -3.14698517e-01, -5.24736226e-01,\n",
       "          4.25754100e-01, -1.22300528e-01,  1.90212622e-01,\n",
       "          7.78955892e-02],\n",
       "        [ 2.81952471e-01, -4.06084657e-01,  1.48838624e-01,\n",
       "         -5.28647304e-01, -3.78246725e-01,  8.56941342e-02,\n",
       "          2.03584999e-01,  1.47503644e-01,  7.96494409e-02,\n",
       "          2.10740730e-01],\n",
       "        [ 3.69114310e-01, -3.32424581e-01,  1.45775348e-01,\n",
       "         -4.04229820e-01, -3.31475794e-01, -2.50990868e-01,\n",
       "          2.20412299e-01,  3.04490894e-01, -2.00763911e-01,\n",
       "         -1.35432102e-03],\n",
       "        [ 2.64096707e-01,  3.99819225e-01,  2.78771579e-01,\n",
       "         -3.92844915e-01, -1.79565772e-01,  4.68816400e-01,\n",
       "         -4.15237725e-01, -2.58634966e-02,  1.08171202e-01,\n",
       "         -1.14688456e-01],\n",
       "        [ 1.80041686e-01, -5.74671507e-01,  5.97594231e-02,\n",
       "         -1.95732564e-01, -7.34721243e-01, -1.15642972e-01,\n",
       "         -1.93319529e-01, -5.08417368e-01,  9.92169306e-02,\n",
       "         -3.29858154e-01],\n",
       "        [ 2.65687853e-01,  6.98704422e-01, -3.57941478e-01,\n",
       "          1.83955848e-01,  2.73926079e-01,  1.47553131e-01,\n",
       "         -5.77568710e-01, -8.26546252e-02,  4.62197483e-01,\n",
       "         -1.73491240e-02],\n",
       "        [-5.92538677e-02, -5.19173503e-01, -5.42336283e-03,\n",
       "         -1.22506730e-02,  5.87782502e-01, -5.27940691e-01,\n",
       "          5.04980981e-01, -6.03698902e-02,  4.71340492e-02,\n",
       "          3.08014572e-01]], dtype=float32),\n",
       " array([ 0.05246012, -0.0349841 , -0.14517352,  0.06304295, -0.07744996,\n",
       "         0.07388185, -0.02515732,  0.05980489, -0.0645747 , -0.06635424],\n",
       "       dtype=float32),\n",
       " array([[-0.13994364,  0.14940795, -0.01523981, -0.35969403,  0.19678012,\n",
       "         -0.2381915 ,  0.16357628, -0.5837669 , -0.43953925, -0.32006285],\n",
       "        [-0.16214824,  0.172424  ,  0.761602  ,  0.31107455,  0.10158718,\n",
       "         -0.46966037,  0.09546361, -0.6229827 , -0.10459802,  0.4491944 ],\n",
       "        [-0.21699639, -0.5677794 ,  0.01180815,  0.16693786, -0.2458316 ,\n",
       "         -0.16152862, -0.13366707, -0.16148508, -0.29981703, -0.31311217],\n",
       "        [-0.43367684, -0.2662093 ,  0.19400407,  0.01491594,  0.86794376,\n",
       "         -0.13235445,  0.22072555, -0.03512779,  0.34299517,  0.3334224 ],\n",
       "        [-0.2544642 , -0.14680871, -0.03429848,  0.20877483, -0.20400691,\n",
       "          0.04882009, -0.00879779, -0.01054277,  0.43805242,  0.193171  ],\n",
       "        [-0.5227501 , -0.52290076,  0.57821983,  0.33846846, -0.15507597,\n",
       "         -0.42236966, -0.11429341, -0.4366618 , -0.35946694, -0.35481504],\n",
       "        [ 0.4147811 ,  0.74114627,  0.6766228 ,  0.02676173,  0.01322271,\n",
       "          0.00368634, -0.21646605,  0.08387563, -0.42370784,  0.18292558],\n",
       "        [ 0.21998097, -0.2526036 , -0.5540172 ,  0.44462764, -0.0243019 ,\n",
       "         -0.4230903 ,  0.47603345, -0.23889285, -0.25043368,  0.28945664],\n",
       "        [-0.5069829 , -0.36980784, -0.37841606,  0.07571439,  0.17657581,\n",
       "          0.11946897,  0.04940868, -0.11839773, -0.27386686, -0.22248155],\n",
       "        [ 0.1644585 ,  0.28181997,  0.15951152,  0.14633203,  0.02887846,\n",
       "          0.02869656, -0.18406558, -0.1394132 ,  0.06999914, -0.15044749]],\n",
       "       dtype=float32),\n",
       " array([ 0.01401502, -0.06874906,  0.02771679, -0.00980052,  0.06817331,\n",
       "        -0.06483752, -0.0576874 , -0.01044558, -0.01624848, -0.0086615 ],\n",
       "       dtype=float32),\n",
       " array([[ 0.5836297 , -0.1136457 ,  0.16858567, -0.08363701,  0.345993  ,\n",
       "         -0.19303223, -0.17180097,  0.7348358 ,  0.2872467 , -0.33808428],\n",
       "        [-0.06324903, -0.27534568,  0.59205633,  0.39132857,  0.23729783,\n",
       "          0.49752048,  0.03924703,  0.26897088,  0.49869093, -0.1416022 ],\n",
       "        [-0.00407689,  0.1237016 , -0.26726034,  0.04617316, -0.44153488,\n",
       "          0.15847845, -0.40301996, -0.17819491,  0.03198412,  0.23764765],\n",
       "        [-0.56419104, -0.1713034 ,  0.24658428,  0.01668123, -1.0689964 ,\n",
       "         -0.04805278,  0.90453094,  0.02622717, -0.07495812,  0.49121973],\n",
       "        [ 0.2981784 ,  0.75531965,  0.19086382,  0.49131912,  0.2720034 ,\n",
       "         -0.3563327 ,  0.12943906, -0.47686958, -0.16979314,  0.20015118],\n",
       "        [-0.1334327 , -0.31827635,  0.40696782,  0.14404476, -0.32228312,\n",
       "         -0.18916556, -0.09907762,  0.11252688,  0.34736952, -0.4410654 ],\n",
       "        [-0.5649809 ,  0.61822486, -0.09618901,  0.14132473,  0.3146779 ,\n",
       "          0.1538731 , -0.47884005,  0.5015875 ,  0.1788601 ,  0.17791456],\n",
       "        [ 0.5537719 , -0.47182363,  0.33535045,  0.4229471 , -0.16423018,\n",
       "          0.08190561, -0.21549113,  0.825516  ,  0.15868501, -0.17384835],\n",
       "        [ 0.2934527 , -0.10251229, -0.65889275, -0.20267257, -0.05756931,\n",
       "          0.2778956 ,  0.1625076 ,  0.06109074, -0.82201755,  0.41022977],\n",
       "        [ 0.22365326,  0.32267845, -0.08461884, -0.5066189 , -0.1908337 ,\n",
       "         -0.19884098,  0.1910553 , -0.6524202 ,  0.15979579,  0.5775443 ]],\n",
       "       dtype=float32),\n",
       " array([ 0.04925172, -0.03202511, -0.00872767,  0.06472793,  0.03158826,\n",
       "        -0.02555688, -0.10603732, -0.00105975,  0.01381019,  0.0287521 ],\n",
       "       dtype=float32),\n",
       " array([[ 0.34466526],\n",
       "        [-0.1856424 ],\n",
       "        [ 0.5719895 ],\n",
       "        [ 0.15630439],\n",
       "        [ 0.30570492],\n",
       "        [-0.10367974],\n",
       "        [-0.14648044],\n",
       "        [ 0.41359925],\n",
       "        [ 0.33393538],\n",
       "        [-0.34596637]], dtype=float32),\n",
       " array([0.06646469], dtype=float32)]"
      ]
     },
     "execution_count": 21,
     "metadata": {},
     "output_type": "execute_result"
    }
   ],
   "source": [
    "model.get_weights()"
   ]
  },
  {
   "cell_type": "code",
   "execution_count": 22,
   "id": "76d94fa8-21f9-4d09-b713-b0a4cfd98d9a",
   "metadata": {},
   "outputs": [
    {
     "name": "stdout",
     "output_type": "stream",
     "text": [
      "\u001b[1m9600/9600\u001b[0m \u001b[32m━━━━━━━━━━━━━━━━━━━━\u001b[0m\u001b[37m\u001b[0m \u001b[1m9s\u001b[0m 967us/step\n"
     ]
    },
    {
     "data": {
      "text/plain": [
       "<Axes: >"
      ]
     },
     "execution_count": 22,
     "metadata": {},
     "output_type": "execute_result"
    },
    {
     "data": {
      "image/png": "[encoded data removed]",
      "text/plain": [
       "<Figure size 640x480 with 1 Axes>"
      ]
     },
     "metadata": {},
     "output_type": "display_data"
    }
   ],
   "source": [
    "from mlxtend.plotting import plot_decision_regions\n",
    "plot_decision_regions(X=X.values, y=y.values.astype(int), clf=model, legend=2)"
   ]
  },
  {
   "cell_type": "code",
   "execution_count": null,
   "id": "e585efa8-05b4-4aaf-819a-94489cc62e50",
   "metadata": {},
   "outputs": [],
   "source": []
  }
 ],
 "metadata": {
  "kernelspec": {
   "display_name": "Python 3 (ipykernel)",
   "language": "python",
   "name": "python3"
  },
  "language_info": {
   "codemirror_mode": {
    "name": "ipython",
    "version": 3
   },
   "file_extension": ".py",
   "mimetype": "text/x-python",
   "name": "python",
   "nbconvert_exporter": "python",
   "pygments_lexer": "ipython3",
   "version": "3.12.3"
  }
 },
 "nbformat": 4,
 "nbformat_minor": 5
}

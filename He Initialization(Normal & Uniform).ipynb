{
 "cells": [
  {
   "cell_type": "code",
   "execution_count": 1,
   "id": "4d56263f-b845-42f1-83c0-01ae25103013",
   "metadata": {},
   "outputs": [],
   "source": [
    "import pandas as pd\n",
    "import numpy as np\n",
    "import matplotlib.pyplot as plt"
   ]
  },
  {
   "cell_type": "code",
   "execution_count": 2,
   "id": "0ffc8f2d-c6aa-49da-9bbc-d04818079146",
   "metadata": {},
   "outputs": [],
   "source": [
    "df = pd.read_csv('ushape.csv')"
   ]
  },
  {
   "cell_type": "code",
   "execution_count": 3,
   "id": "51f5bf4a-ba13-4bcd-b527-5f76af5b277b",
   "metadata": {},
   "outputs": [
    {
     "data": {
      "text/html": [
       "<div>\n",
       "<style scoped>\n",
       "    .dataframe tbody tr th:only-of-type {\n",
       "        vertical-align: middle;\n",
       "    }\n",
       "\n",
       "    .dataframe tbody tr th {\n",
       "        vertical-align: top;\n",
       "    }\n",
       "\n",
       "    .dataframe thead th {\n",
       "        text-align: right;\n",
       "    }\n",
       "</style>\n",
       "<table border=\"1\" class=\"dataframe\">\n",
       "  <thead>\n",
       "    <tr style=\"text-align: right;\">\n",
       "      <th></th>\n",
       "      <th>3.159499363321345566e-02</th>\n",
       "      <th>9.869877579082642072e-01</th>\n",
       "      <th>0.000000000000000000e+00</th>\n",
       "    </tr>\n",
       "  </thead>\n",
       "  <tbody>\n",
       "    <tr>\n",
       "      <th>0</th>\n",
       "      <td>2.115098</td>\n",
       "      <td>-0.046244</td>\n",
       "      <td>1.0</td>\n",
       "    </tr>\n",
       "    <tr>\n",
       "      <th>1</th>\n",
       "      <td>0.882490</td>\n",
       "      <td>-0.075756</td>\n",
       "      <td>0.0</td>\n",
       "    </tr>\n",
       "    <tr>\n",
       "      <th>2</th>\n",
       "      <td>-0.055144</td>\n",
       "      <td>-0.037332</td>\n",
       "      <td>1.0</td>\n",
       "    </tr>\n",
       "    <tr>\n",
       "      <th>3</th>\n",
       "      <td>0.829545</td>\n",
       "      <td>-0.539321</td>\n",
       "      <td>1.0</td>\n",
       "    </tr>\n",
       "    <tr>\n",
       "      <th>4</th>\n",
       "      <td>2.112857</td>\n",
       "      <td>0.662084</td>\n",
       "      <td>1.0</td>\n",
       "    </tr>\n",
       "  </tbody>\n",
       "</table>\n",
       "</div>"
      ],
      "text/plain": [
       "   3.159499363321345566e-02  9.869877579082642072e-01  \\\n",
       "0                  2.115098                 -0.046244   \n",
       "1                  0.882490                 -0.075756   \n",
       "2                 -0.055144                 -0.037332   \n",
       "3                  0.829545                 -0.539321   \n",
       "4                  2.112857                  0.662084   \n",
       "\n",
       "   0.000000000000000000e+00  \n",
       "0                       1.0  \n",
       "1                       0.0  \n",
       "2                       1.0  \n",
       "3                       1.0  \n",
       "4                       1.0  "
      ]
     },
     "execution_count": 3,
     "metadata": {},
     "output_type": "execute_result"
    }
   ],
   "source": [
    "df.head()"
   ]
  },
  {
   "cell_type": "code",
   "execution_count": 4,
   "id": "29123574-2020-4fa2-b8c1-be61a7b86871",
   "metadata": {},
   "outputs": [],
   "source": [
    "df['X'] = df['3.159499363321345566e-02'].rename('X')"
   ]
  },
  {
   "cell_type": "code",
   "execution_count": 5,
   "id": "6cdea9ad-aab0-43f6-b628-dff7917f6efb",
   "metadata": {},
   "outputs": [],
   "source": [
    "df['Y'] = df['9.869877579082642072e-01'].rename('Y')"
   ]
  },
  {
   "cell_type": "code",
   "execution_count": 6,
   "id": "56506339-9a7d-4a9f-8bb8-679209f9ba68",
   "metadata": {},
   "outputs": [],
   "source": [
    "df['class'] = df['0.000000000000000000e+00'].rename('class')"
   ]
  },
  {
   "cell_type": "code",
   "execution_count": 7,
   "id": "cc9a53d8-6bab-4f2a-9e3d-adfb1b10aed5",
   "metadata": {},
   "outputs": [],
   "source": [
    "df.drop(columns=['9.869877579082642072e-01','0.000000000000000000e+00','3.159499363321345566e-02'],axis=1,inplace=True)"
   ]
  },
  {
   "cell_type": "code",
   "execution_count": 8,
   "id": "d66afc54-3659-4d74-9c86-4a03f53b1f50",
   "metadata": {},
   "outputs": [
    {
     "data": {
      "text/html": [
       "<div>\n",
       "<style scoped>\n",
       "    .dataframe tbody tr th:only-of-type {\n",
       "        vertical-align: middle;\n",
       "    }\n",
       "\n",
       "    .dataframe tbody tr th {\n",
       "        vertical-align: top;\n",
       "    }\n",
       "\n",
       "    .dataframe thead th {\n",
       "        text-align: right;\n",
       "    }\n",
       "</style>\n",
       "<table border=\"1\" class=\"dataframe\">\n",
       "  <thead>\n",
       "    <tr style=\"text-align: right;\">\n",
       "      <th></th>\n",
       "      <th>X</th>\n",
       "      <th>Y</th>\n",
       "      <th>class</th>\n",
       "    </tr>\n",
       "  </thead>\n",
       "  <tbody>\n",
       "    <tr>\n",
       "      <th>0</th>\n",
       "      <td>2.115098</td>\n",
       "      <td>-0.046244</td>\n",
       "      <td>1.0</td>\n",
       "    </tr>\n",
       "    <tr>\n",
       "      <th>1</th>\n",
       "      <td>0.882490</td>\n",
       "      <td>-0.075756</td>\n",
       "      <td>0.0</td>\n",
       "    </tr>\n",
       "    <tr>\n",
       "      <th>2</th>\n",
       "      <td>-0.055144</td>\n",
       "      <td>-0.037332</td>\n",
       "      <td>1.0</td>\n",
       "    </tr>\n",
       "    <tr>\n",
       "      <th>3</th>\n",
       "      <td>0.829545</td>\n",
       "      <td>-0.539321</td>\n",
       "      <td>1.0</td>\n",
       "    </tr>\n",
       "    <tr>\n",
       "      <th>4</th>\n",
       "      <td>2.112857</td>\n",
       "      <td>0.662084</td>\n",
       "      <td>1.0</td>\n",
       "    </tr>\n",
       "  </tbody>\n",
       "</table>\n",
       "</div>"
      ],
      "text/plain": [
       "          X         Y  class\n",
       "0  2.115098 -0.046244    1.0\n",
       "1  0.882490 -0.075756    0.0\n",
       "2 -0.055144 -0.037332    1.0\n",
       "3  0.829545 -0.539321    1.0\n",
       "4  2.112857  0.662084    1.0"
      ]
     },
     "execution_count": 8,
     "metadata": {},
     "output_type": "execute_result"
    }
   ],
   "source": [
    "df.head()"
   ]
  },
  {
   "cell_type": "code",
   "execution_count": 9,
   "id": "814306f3-eead-4c54-b2ba-9a64c0b63786",
   "metadata": {},
   "outputs": [
    {
     "data": {
      "text/plain": [
       "<matplotlib.collections.PathCollection at 0x7fd8c1e4bef0>"
      ]
     },
     "execution_count": 9,
     "metadata": {},
     "output_type": "execute_result"
    },
    {
     "data": {
      "image/png": "[encoded data removed]",
      "text/plain": [
       "<Figure size 640x480 with 1 Axes>"
      ]
     },
     "metadata": {},
     "output_type": "display_data"
    }
   ],
   "source": [
    "plt.scatter(df['X'],df['Y'],c=df['class'])"
   ]
  },
  {
   "cell_type": "code",
   "execution_count": 10,
   "id": "5dc896a0-913d-4c9c-889a-47df9036c15a",
   "metadata": {},
   "outputs": [],
   "source": [
    "X = df.drop(columns=['class'],axis=1)\n",
    "y = df['class']"
   ]
  },
  {
   "cell_type": "code",
   "execution_count": 11,
   "id": "da570a64-0ef1-4315-a14c-afd3576805d5",
   "metadata": {},
   "outputs": [
    {
     "name": "stderr",
     "output_type": "stream",
     "text": [
      "2025-05-23 17:50:11.895624: E external/local_xla/xla/stream_executor/cuda/cuda_fft.cc:467] Unable to register cuFFT factory: Attempting to register factory for plugin cuFFT when one has already been registered\n",
      "WARNING: All log messages before absl::InitializeLog() is called are written to STDERR\n",
      "E0000 00:00:1748022611.906958   33853 cuda_dnn.cc:8579] Unable to register cuDNN factory: Attempting to register factory for plugin cuDNN when one has already been registered\n",
      "E0000 00:00:1748022611.910502   33853 cuda_blas.cc:1407] Unable to register cuBLAS factory: Attempting to register factory for plugin cuBLAS when one has already been registered\n",
      "W0000 00:00:1748022611.920241   33853 computation_placer.cc:177] computation placer already registered. Please check linkage and avoid linking the same target more than once.\n",
      "W0000 00:00:1748022611.920254   33853 computation_placer.cc:177] computation placer already registered. Please check linkage and avoid linking the same target more than once.\n",
      "W0000 00:00:1748022611.920256   33853 computation_placer.cc:177] computation placer already registered. Please check linkage and avoid linking the same target more than once.\n",
      "W0000 00:00:1748022611.920257   33853 computation_placer.cc:177] computation placer already registered. Please check linkage and avoid linking the same target more than once.\n",
      "2025-05-23 17:50:11.923536: I tensorflow/core/platform/cpu_feature_guard.cc:210] This TensorFlow binary is optimized to use available CPU instructions in performance-critical operations.\n",
      "To enable the following instructions: AVX2 FMA, in other operations, rebuild TensorFlow with the appropriate compiler flags.\n"
     ]
    }
   ],
   "source": [
    "import tensorflow\n",
    "from tensorflow import keras\n",
    "from tensorflow.keras import Sequential\n",
    "from keras.layers import Dense"
   ]
  },
  {
   "cell_type": "code",
   "execution_count": 12,
   "id": "fa989994-8bb8-4753-9010-7ac52227f745",
   "metadata": {},
   "outputs": [
    {
     "name": "stderr",
     "output_type": "stream",
     "text": [
      "/home/zahir/Tf_gpu/tfgpu1/lib/python3.12/site-packages/keras/src/layers/core/dense.py:87: UserWarning: Do not pass an `input_shape`/`input_dim` argument to a layer. When using Sequential models, prefer using an `Input(shape)` object as the first layer in the model instead.\n",
      "  super().__init__(activity_regularizer=activity_regularizer, **kwargs)\n",
      "I0000 00:00:1748022613.566304   33853 gpu_device.cc:2019] Created device /job:localhost/replica:0/task:0/device:GPU:0 with 1767 MB memory:  -> device: 0, name: NVIDIA GeForce RTX 2050, pci bus id: 0000:01:00.0, compute capability: 8.6\n"
     ]
    }
   ],
   "source": [
    "# model = Sequential()\n",
    "# model.add(Dense(10,activation='relu',input_dim=2,kernel_initializer='he_normal'))\n",
    "# model.add(Dense(10,activation='relu',kernel_initializer='he_normal'))\n",
    "# model.add(Dense(10,activation='relu',kernel_initializer='he_normal'))\n",
    "# model.add(Dense(10,activation='relu',kernel_initializer='he_normal'))\n",
    "# model.add(Dense(1,activation='sigmoid'))\n",
    "\n",
    "model = Sequential()\n",
    "model.add(Dense(10,activation='relu',input_dim=2,kernel_initializer='he_uniform'))\n",
    "model.add(Dense(10,activation='relu',kernel_initializer='he_uniform'))\n",
    "model.add(Dense(10,activation='relu',kernel_initializer='he_uniform'))\n",
    "model.add(Dense(10,activation='relu',kernel_initializer='he_uniform'))\n",
    "model.add(Dense(1,activation='sigmoid'))"
   ]
  },
  {
   "cell_type": "code",
   "execution_count": 13,
   "id": "78edcd37-0b77-48d3-9ded-a2d6a3a306bd",
   "metadata": {},
   "outputs": [
    {
     "data": {
      "text/html": [
       "<pre style=\"white-space:pre;overflow-x:auto;line-height:normal;font-family:Menlo,'DejaVu Sans Mono',consolas,'Courier New',monospace\"><span style=\"font-weight: bold\">Model: \"sequential\"</span>\n",
       "</pre>\n"
      ],
      "text/plain": [
       "\u001b[1mModel: \"sequential\"\u001b[0m\n"
      ]
     },
     "metadata": {},
     "output_type": "display_data"
    },
    {
     "data": {
      "text/html": [
       "<pre style=\"white-space:pre;overflow-x:auto;line-height:normal;font-family:Menlo,'DejaVu Sans Mono',consolas,'Courier New',monospace\">┏━━━━━━━━━━━━━━━━━━━━━━━━━━━━━━━━━┳━━━━━━━━━━━━━━━━━━━━━━━━┳━━━━━━━━━━━━━━━┓\n",
       "┃<span style=\"font-weight: bold\"> Layer (type)                    </span>┃<span style=\"font-weight: bold\"> Output Shape           </span>┃<span style=\"font-weight: bold\">       Param # </span>┃\n",
       "┡━━━━━━━━━━━━━━━━━━━━━━━━━━━━━━━━━╇━━━━━━━━━━━━━━━━━━━━━━━━╇━━━━━━━━━━━━━━━┩\n",
       "│ dense (<span style=\"color: #0087ff; text-decoration-color: #0087ff\">Dense</span>)                   │ (<span style=\"color: #00d7ff; text-decoration-color: #00d7ff\">None</span>, <span style=\"color: #00af00; text-decoration-color: #00af00\">10</span>)             │            <span style=\"color: #00af00; text-decoration-color: #00af00\">30</span> │\n",
       "├─────────────────────────────────┼────────────────────────┼───────────────┤\n",
       "│ dense_1 (<span style=\"color: #0087ff; text-decoration-color: #0087ff\">Dense</span>)                 │ (<span style=\"color: #00d7ff; text-decoration-color: #00d7ff\">None</span>, <span style=\"color: #00af00; text-decoration-color: #00af00\">10</span>)             │           <span style=\"color: #00af00; text-decoration-color: #00af00\">110</span> │\n",
       "├─────────────────────────────────┼────────────────────────┼───────────────┤\n",
       "│ dense_2 (<span style=\"color: #0087ff; text-decoration-color: #0087ff\">Dense</span>)                 │ (<span style=\"color: #00d7ff; text-decoration-color: #00d7ff\">None</span>, <span style=\"color: #00af00; text-decoration-color: #00af00\">10</span>)             │           <span style=\"color: #00af00; text-decoration-color: #00af00\">110</span> │\n",
       "├─────────────────────────────────┼────────────────────────┼───────────────┤\n",
       "│ dense_3 (<span style=\"color: #0087ff; text-decoration-color: #0087ff\">Dense</span>)                 │ (<span style=\"color: #00d7ff; text-decoration-color: #00d7ff\">None</span>, <span style=\"color: #00af00; text-decoration-color: #00af00\">10</span>)             │           <span style=\"color: #00af00; text-decoration-color: #00af00\">110</span> │\n",
       "├─────────────────────────────────┼────────────────────────┼───────────────┤\n",
       "│ dense_4 (<span style=\"color: #0087ff; text-decoration-color: #0087ff\">Dense</span>)                 │ (<span style=\"color: #00d7ff; text-decoration-color: #00d7ff\">None</span>, <span style=\"color: #00af00; text-decoration-color: #00af00\">1</span>)              │            <span style=\"color: #00af00; text-decoration-color: #00af00\">11</span> │\n",
       "└─────────────────────────────────┴────────────────────────┴───────────────┘\n",
       "</pre>\n"
      ],
      "text/plain": [
       "┏━━━━━━━━━━━━━━━━━━━━━━━━━━━━━━━━━┳━━━━━━━━━━━━━━━━━━━━━━━━┳━━━━━━━━━━━━━━━┓\n",
       "┃\u001b[1m \u001b[0m\u001b[1mLayer (type)                   \u001b[0m\u001b[1m \u001b[0m┃\u001b[1m \u001b[0m\u001b[1mOutput Shape          \u001b[0m\u001b[1m \u001b[0m┃\u001b[1m \u001b[0m\u001b[1m      Param #\u001b[0m\u001b[1m \u001b[0m┃\n",
       "┡━━━━━━━━━━━━━━━━━━━━━━━━━━━━━━━━━╇━━━━━━━━━━━━━━━━━━━━━━━━╇━━━━━━━━━━━━━━━┩\n",
       "│ dense (\u001b[38;5;33mDense\u001b[0m)                   │ (\u001b[38;5;45mNone\u001b[0m, \u001b[38;5;34m10\u001b[0m)             │            \u001b[38;5;34m30\u001b[0m │\n",
       "├─────────────────────────────────┼────────────────────────┼───────────────┤\n",
       "│ dense_1 (\u001b[38;5;33mDense\u001b[0m)                 │ (\u001b[38;5;45mNone\u001b[0m, \u001b[38;5;34m10\u001b[0m)             │           \u001b[38;5;34m110\u001b[0m │\n",
       "├─────────────────────────────────┼────────────────────────┼───────────────┤\n",
       "│ dense_2 (\u001b[38;5;33mDense\u001b[0m)                 │ (\u001b[38;5;45mNone\u001b[0m, \u001b[38;5;34m10\u001b[0m)             │           \u001b[38;5;34m110\u001b[0m │\n",
       "├─────────────────────────────────┼────────────────────────┼───────────────┤\n",
       "│ dense_3 (\u001b[38;5;33mDense\u001b[0m)                 │ (\u001b[38;5;45mNone\u001b[0m, \u001b[38;5;34m10\u001b[0m)             │           \u001b[38;5;34m110\u001b[0m │\n",
       "├─────────────────────────────────┼────────────────────────┼───────────────┤\n",
       "│ dense_4 (\u001b[38;5;33mDense\u001b[0m)                 │ (\u001b[38;5;45mNone\u001b[0m, \u001b[38;5;34m1\u001b[0m)              │            \u001b[38;5;34m11\u001b[0m │\n",
       "└─────────────────────────────────┴────────────────────────┴───────────────┘\n"
      ]
     },
     "metadata": {},
     "output_type": "display_data"
    },
    {
     "data": {
      "text/html": [
       "<pre style=\"white-space:pre;overflow-x:auto;line-height:normal;font-family:Menlo,'DejaVu Sans Mono',consolas,'Courier New',monospace\"><span style=\"font-weight: bold\"> Total params: </span><span style=\"color: #00af00; text-decoration-color: #00af00\">371</span> (1.45 KB)\n",
       "</pre>\n"
      ],
      "text/plain": [
       "\u001b[1m Total params: \u001b[0m\u001b[38;5;34m371\u001b[0m (1.45 KB)\n"
      ]
     },
     "metadata": {},
     "output_type": "display_data"
    },
    {
     "data": {
      "text/html": [
       "<pre style=\"white-space:pre;overflow-x:auto;line-height:normal;font-family:Menlo,'DejaVu Sans Mono',consolas,'Courier New',monospace\"><span style=\"font-weight: bold\"> Trainable params: </span><span style=\"color: #00af00; text-decoration-color: #00af00\">371</span> (1.45 KB)\n",
       "</pre>\n"
      ],
      "text/plain": [
       "\u001b[1m Trainable params: \u001b[0m\u001b[38;5;34m371\u001b[0m (1.45 KB)\n"
      ]
     },
     "metadata": {},
     "output_type": "display_data"
    },
    {
     "data": {
      "text/html": [
       "<pre style=\"white-space:pre;overflow-x:auto;line-height:normal;font-family:Menlo,'DejaVu Sans Mono',consolas,'Courier New',monospace\"><span style=\"font-weight: bold\"> Non-trainable params: </span><span style=\"color: #00af00; text-decoration-color: #00af00\">0</span> (0.00 B)\n",
       "</pre>\n"
      ],
      "text/plain": [
       "\u001b[1m Non-trainable params: \u001b[0m\u001b[38;5;34m0\u001b[0m (0.00 B)\n"
      ]
     },
     "metadata": {},
     "output_type": "display_data"
    }
   ],
   "source": [
    "model.summary()"
   ]
  },
  {
   "cell_type": "code",
   "execution_count": 14,
   "id": "2108ed72-250b-44fe-9082-142731a0ac34",
   "metadata": {},
   "outputs": [
    {
     "data": {
      "text/plain": [
       "[array([[ 0.03495193,  1.6406444 ,  0.7497076 ,  1.2834693 ,  1.3255249 ,\n",
       "         -1.297931  ,  0.20788884,  1.263224  ,  0.613814  , -0.5078356 ],\n",
       "        [ 1.2105125 , -1.5548935 ,  1.4871794 , -0.5216336 , -1.3941693 ,\n",
       "          0.9260043 , -0.80282295,  0.05823088, -0.5841911 , -1.2625339 ]],\n",
       "       dtype=float32),\n",
       " array([0., 0., 0., 0., 0., 0., 0., 0., 0., 0.], dtype=float32),\n",
       " array([[ 0.03458214,  0.63353264,  0.48304498, -0.18413454, -0.13795578,\n",
       "         -0.6560979 , -0.06703895,  0.08968532, -0.27194756, -0.15197152],\n",
       "        [-0.37066695,  0.05775869,  0.0758599 ,  0.60642314,  0.67490613,\n",
       "          0.33171797,  0.2301985 ,  0.2894634 , -0.44701424, -0.25810075],\n",
       "        [-0.35723126, -0.01547343, -0.03792274, -0.6119343 , -0.5884168 ,\n",
       "          0.37120414,  0.55506134,  0.69975173,  0.56649446, -0.3070163 ],\n",
       "        [ 0.19517887, -0.08420295,  0.6287781 ,  0.15867442, -0.03580892,\n",
       "         -0.46618125,  0.71384585, -0.42153198, -0.4234157 , -0.05678207],\n",
       "        [ 0.49669135, -0.5590807 , -0.5496843 , -0.4278993 ,  0.7728665 ,\n",
       "          0.21898353,  0.63109803,  0.26907468,  0.0529362 ,  0.22590375],\n",
       "        [-0.24378157,  0.44444227, -0.30588794, -0.6241506 ,  0.15090007,\n",
       "         -0.46563053,  0.05550635, -0.6599154 , -0.07669079, -0.36902943],\n",
       "        [-0.4296942 , -0.12274438, -0.20362884,  0.31213057,  0.29157054,\n",
       "          0.44176805, -0.66735   , -0.10726315, -0.70341045, -0.468436  ],\n",
       "        [ 0.59520113,  0.30996192, -0.73322046,  0.29772758, -0.5774789 ,\n",
       "         -0.72884375, -0.3051675 ,  0.66397345, -0.36052537, -0.32162252],\n",
       "        [-0.1694057 ,  0.6828486 , -0.62297994,  0.5421605 ,  0.59812033,\n",
       "         -0.4562114 , -0.39524892, -0.3837876 ,  0.5883069 , -0.7314954 ],\n",
       "        [-0.04313052, -0.43805346,  0.53811765,  0.76456225,  0.32402587,\n",
       "          0.19353908,  0.7518325 , -0.72606343, -0.6192729 , -0.15187258]],\n",
       "       dtype=float32),\n",
       " array([0., 0., 0., 0., 0., 0., 0., 0., 0., 0.], dtype=float32),\n",
       " array([[-6.47352278e-01, -4.02646571e-01, -5.61945796e-01,\n",
       "          1.58616662e-01,  7.51500130e-01,  3.55409980e-01,\n",
       "         -4.20694441e-01, -3.00589681e-01,  6.10589862e-01,\n",
       "         -4.28006977e-01],\n",
       "        [ 6.51014209e-01, -2.12654948e-01,  3.64851952e-02,\n",
       "          1.38272285e-01, -9.02405977e-02,  2.80101538e-01,\n",
       "         -1.87794507e-01,  7.32553959e-01,  1.51368558e-01,\n",
       "          6.30540609e-01],\n",
       "        [-7.14908659e-01, -6.97375178e-01,  6.58245325e-01,\n",
       "          3.81888151e-01,  5.81508160e-01, -5.42715788e-01,\n",
       "         -6.62206411e-02,  5.98732948e-01, -2.39679873e-01,\n",
       "         -1.86653376e-01],\n",
       "        [-7.14266896e-01,  7.07262635e-01, -5.46026349e-01,\n",
       "          5.44461012e-01, -6.31790519e-01, -6.47571325e-01,\n",
       "         -2.77459860e-01, -1.54301822e-01,  5.60073018e-01,\n",
       "         -1.10790312e-01],\n",
       "        [ 5.60513973e-01,  6.46718860e-01, -4.73570973e-01,\n",
       "          3.20890069e-01,  2.37527966e-01,  4.89291191e-01,\n",
       "         -4.90232259e-01,  2.13751376e-01, -3.82028550e-01,\n",
       "          7.56229758e-01],\n",
       "        [ 4.22233343e-01, -4.43466932e-01,  3.81195664e-01,\n",
       "          4.24430490e-01,  1.00165784e-01, -4.65919554e-01,\n",
       "          1.12874627e-01, -7.33232617e-01,  1.69778407e-01,\n",
       "         -7.69263923e-01],\n",
       "        [ 3.42206597e-01, -6.10481620e-01,  6.30021095e-05,\n",
       "         -1.30309165e-01, -4.43437755e-01,  3.48541975e-01,\n",
       "          6.41936064e-02,  1.75356448e-01,  2.47008681e-01,\n",
       "          4.98750925e-01],\n",
       "        [ 4.05933261e-01, -4.14046645e-02, -7.48432934e-01,\n",
       "          2.11958528e-01,  5.23912787e-01,  4.82412100e-01,\n",
       "         -9.61601734e-03, -1.72975719e-01,  6.95739269e-01,\n",
       "          1.57286525e-02],\n",
       "        [ 5.10275364e-02, -6.70514047e-01, -9.71810222e-02,\n",
       "          2.43260741e-01, -3.46943378e-01, -7.51675010e-01,\n",
       "         -4.84954536e-01,  1.25560343e-01, -7.45925963e-01,\n",
       "         -5.22322893e-01],\n",
       "        [ 6.78409934e-02, -7.01963484e-01, -6.16662264e-01,\n",
       "         -1.52216434e-01, -4.07585621e-01, -6.64871752e-01,\n",
       "          4.68013406e-01, -4.81676131e-01,  6.72191381e-03,\n",
       "         -5.07828593e-01]], dtype=float32),\n",
       " array([0., 0., 0., 0., 0., 0., 0., 0., 0., 0.], dtype=float32),\n",
       " array([[-0.62107444,  0.70470834,  0.2289362 ,  0.45068955, -0.70454454,\n",
       "          0.33268476,  0.5157168 ,  0.29644823,  0.41199875,  0.46097827],\n",
       "        [-0.02174842,  0.3054471 ,  0.6928264 ,  0.31760478,  0.27923906,\n",
       "         -0.5675777 ,  0.10288519, -0.19480008,  0.6903361 ,  0.2667265 ],\n",
       "        [ 0.59459877,  0.72342145,  0.4842378 ,  0.17705601, -0.16177166,\n",
       "          0.08683276,  0.09327394,  0.4508561 , -0.05144137,  0.34053767],\n",
       "        [-0.75838417,  0.43885517, -0.40272507, -0.75835276, -0.73333627,\n",
       "         -0.5426028 ,  0.14565128, -0.48217475, -0.13997668, -0.13751954],\n",
       "        [-0.24185997,  0.21163851, -0.7599078 ,  0.23088562, -0.74852014,\n",
       "          0.42009997, -0.39048332,  0.35414624, -0.49076638, -0.0299716 ],\n",
       "        [-0.47507888,  0.6090212 ,  0.04477412,  0.44594944, -0.5563161 ,\n",
       "         -0.14847428,  0.32802463,  0.5825044 ,  0.14194483,  0.50637126],\n",
       "        [-0.7464309 ,  0.55414736, -0.14700478,  0.6004809 , -0.23076338,\n",
       "         -0.7675996 , -0.5153574 , -0.7643345 ,  0.4736774 , -0.44546145],\n",
       "        [ 0.6848172 ,  0.74829745,  0.33964396, -0.6648197 ,  0.68587613,\n",
       "         -0.3223758 ,  0.21202242, -0.55703795, -0.4780387 , -0.2095483 ],\n",
       "        [ 0.76581454, -0.5323413 , -0.0151425 ,  0.40370035,  0.25918627,\n",
       "         -0.52003527, -0.76620936,  0.7302246 ,  0.15368533,  0.60609186],\n",
       "        [-0.21790576,  0.52090406, -0.2267524 , -0.17999077,  0.6179677 ,\n",
       "         -0.26226437, -0.6588563 , -0.6836964 , -0.68432593,  0.72442365]],\n",
       "       dtype=float32),\n",
       " array([0., 0., 0., 0., 0., 0., 0., 0., 0., 0.], dtype=float32),\n",
       " array([[ 0.17238182],\n",
       "        [-0.0601576 ],\n",
       "        [-0.6366426 ],\n",
       "        [ 0.72132546],\n",
       "        [-0.16788304],\n",
       "        [ 0.07972634],\n",
       "        [-0.2976978 ],\n",
       "        [ 0.2184707 ],\n",
       "        [-0.12772149],\n",
       "        [ 0.21117973]], dtype=float32),\n",
       " array([0.], dtype=float32)]"
      ]
     },
     "execution_count": 14,
     "metadata": {},
     "output_type": "execute_result"
    }
   ],
   "source": [
    "model.get_weights()"
   ]
  },
  {
   "cell_type": "code",
   "execution_count": 15,
   "id": "cd0b94ae-7620-4901-bb35-9b23f61eae34",
   "metadata": {},
   "outputs": [],
   "source": [
    "initial_weights = model.get_weights()"
   ]
  },
  {
   "cell_type": "code",
   "execution_count": 16,
   "id": "220fa265-7283-4294-b2c3-95c0c6411b19",
   "metadata": {},
   "outputs": [],
   "source": [
    "initial_weights[0] = np.random.randn(2,10)*np.sqrt(1/2)\n",
    "initial_weights[1] = np.zeros(model.get_weights()[1].shape)\n",
    "initial_weights[2] = np.random.randn(10,10)*np.sqrt(1/10)\n",
    "initial_weights[3] = np.zeros(model.get_weights()[3].shape)\n",
    "initial_weights[4] = np.random.randn(10,10)*np.sqrt(1/10)\n",
    "initial_weights[5] = np.zeros(model.get_weights()[5].shape)\n",
    "initial_weights[6] = np.random.randn(10,10)*np.sqrt(1/10)\n",
    "initial_weights[7] = np.zeros(model.get_weights()[7].shape)\n",
    "initial_weights[8] = np.random.randn(10,1)*np.sqrt(1/10)\n",
    "initial_weights[9] = np.zeros(model.get_weights()[9].shape)"
   ]
  },
  {
   "cell_type": "code",
   "execution_count": 17,
   "id": "3b314cd4-652f-4f31-bbe2-049da4e99093",
   "metadata": {},
   "outputs": [],
   "source": [
    "model.set_weights(initial_weights)"
   ]
  },
  {
   "cell_type": "code",
   "execution_count": 18,
   "id": "a35b27be-16a9-49a6-862c-15c27b734020",
   "metadata": {},
   "outputs": [
    {
     "data": {
      "text/plain": [
       "[array([[ 0.1493989 ,  0.36005467,  0.39080322, -0.32694283,  0.37551504,\n",
       "          1.4112453 , -0.3343752 , -1.2520754 ,  0.41432574,  0.32182467],\n",
       "        [-0.173885  ,  0.24854177,  0.45530844, -0.83149254,  0.58353585,\n",
       "         -1.1328013 , -0.07959965, -1.2904195 ,  1.192441  , -1.2342215 ]],\n",
       "       dtype=float32),\n",
       " array([0., 0., 0., 0., 0., 0., 0., 0., 0., 0.], dtype=float32),\n",
       " array([[-0.03289412,  0.08815349,  0.26189297, -0.23205142, -0.3782341 ,\n",
       "          0.4537739 ,  0.26760766, -0.34417057,  0.22020908, -0.25024492],\n",
       "        [-0.27177644,  0.7442141 ,  0.1707425 ,  0.10024872, -0.08344833,\n",
       "         -0.46549392,  0.39463964, -0.04989217,  0.48019776, -0.05729683],\n",
       "        [-0.49985397,  0.11614636, -0.3617529 ,  0.00830165,  0.2097497 ,\n",
       "         -0.48203978,  0.32685924, -0.27530384, -0.29176015, -0.6745327 ],\n",
       "        [-0.06262433,  0.04380925, -0.13895063, -0.46384   ,  0.23291753,\n",
       "          0.25794688, -0.06929929, -0.3370127 , -0.26298732, -0.03923957],\n",
       "        [-0.09278232, -0.07343398,  0.06943279, -0.36060736,  0.14719175,\n",
       "          0.36913922, -0.00773988, -0.0891668 , -0.04550942, -0.2677091 ],\n",
       "        [-0.24505693, -0.12810989, -0.13136275, -0.18006437,  0.35984194,\n",
       "         -0.05547229, -0.255991  , -0.3190904 , -0.07025873, -0.5099576 ],\n",
       "        [-0.32668394,  0.34318247, -0.15703183, -0.24907738,  0.31964383,\n",
       "         -0.36871505,  0.81987196,  0.18192568,  0.13225068,  0.0347537 ],\n",
       "        [ 0.01883807,  0.21159855,  0.17394194, -0.11718094,  0.49913672,\n",
       "         -0.05293275, -0.01821152, -0.04530159, -0.0463943 , -0.22239494],\n",
       "        [ 0.36054948, -0.05993053, -0.01648884, -0.33087674,  0.3121416 ,\n",
       "          0.83143497, -0.20388688, -0.6096046 , -0.26396012,  0.00143689],\n",
       "        [ 0.28975645,  0.5249726 ,  0.10945255, -0.07708475, -0.20201483,\n",
       "          0.17467664,  0.46211776, -0.01475968,  0.25438195, -0.06693429]],\n",
       "       dtype=float32),\n",
       " array([0., 0., 0., 0., 0., 0., 0., 0., 0., 0.], dtype=float32),\n",
       " array([[ 0.11598174, -0.09016599, -0.2409269 , -0.050897  ,  0.5346332 ,\n",
       "          0.2313275 ,  0.05233593,  0.43271494,  0.15192997,  0.28000107],\n",
       "        [ 0.0158905 , -0.30519557, -0.20421389, -0.33713016, -0.21429731,\n",
       "          0.01526263,  0.0352791 , -0.2617665 , -0.15264846, -0.26214004],\n",
       "        [-0.05538807, -0.06798232,  0.14699075, -0.05114776,  0.08816127,\n",
       "          0.8247257 , -0.5564252 , -0.07201778,  0.21033685,  0.12402042],\n",
       "        [-0.6792774 ,  0.6205291 ,  0.54396355,  0.25659937,  0.21389477,\n",
       "         -0.00981741, -0.0880975 ,  0.05306293, -0.06664909,  0.7138189 ],\n",
       "        [ 0.23735511, -0.0756726 ,  0.08220521,  0.46878   ,  0.11617514,\n",
       "         -0.5019174 , -0.33826518, -0.57017887, -0.2455712 ,  0.45943433],\n",
       "        [-0.02344704, -0.33729956,  0.28447658, -0.48194277,  0.09596783,\n",
       "          0.0672199 , -0.3117075 , -0.5622355 ,  0.3774398 ,  0.64169115],\n",
       "        [-0.29475167, -0.39384705, -0.3829543 ,  0.12488975,  0.3918393 ,\n",
       "          0.48875955,  0.15912673, -0.3515381 ,  0.5047849 ,  0.3415749 ],\n",
       "        [ 0.06109857,  0.23191984, -0.06725402,  0.6918685 , -0.26916462,\n",
       "         -0.19658218,  0.3036463 ,  0.03694812,  0.35382673, -0.32865772],\n",
       "        [-0.39544582, -0.1557311 ,  0.4553984 , -0.03335404, -0.25628895,\n",
       "          0.08599322, -0.00937906, -0.6400086 ,  0.05259216,  0.6491517 ],\n",
       "        [-0.47946823, -0.5413079 ,  0.49492335, -0.34341514,  0.44394767,\n",
       "          0.13356839, -0.05213352,  0.11441655, -0.4245353 ,  0.24796584]],\n",
       "       dtype=float32),\n",
       " array([0., 0., 0., 0., 0., 0., 0., 0., 0., 0.], dtype=float32),\n",
       " array([[-0.4837864 ,  0.18369865,  0.10282237,  0.35400164,  0.15011978,\n",
       "         -0.40776423,  0.22431323,  0.06343504,  0.40521806, -0.07797135],\n",
       "        [ 0.12446968,  0.10348096,  0.8418262 , -0.22727877, -0.5063082 ,\n",
       "         -0.26084787,  0.12165574,  0.17734711, -0.3654233 , -0.05864122],\n",
       "        [-0.08057369, -0.09502334,  0.1681467 , -0.21202259,  0.02506011,\n",
       "          0.2680892 , -0.65072733, -0.13838315, -0.14394718, -0.02274454],\n",
       "        [ 0.28812462, -0.11544377,  0.32923692,  0.06959331, -0.24817151,\n",
       "          0.14500873,  0.16999814, -0.5755994 , -0.01780043, -0.23816822],\n",
       "        [ 0.19415194, -0.08978703, -0.04340983,  0.22003807, -0.03775527,\n",
       "          0.433513  , -0.43794355,  0.27397388, -0.03169463,  0.48208085],\n",
       "        [ 0.24113525,  0.25255954,  0.03255576,  0.47921848, -0.0244502 ,\n",
       "         -0.37369183, -0.7170754 ,  0.17562795,  0.20501745, -0.02933948],\n",
       "        [-0.03030873,  0.06387469, -0.10017275, -0.40713692,  0.6883581 ,\n",
       "          0.26807648,  0.24063481,  0.18261851, -0.09820983, -0.06811644],\n",
       "        [-0.34557435,  0.30566984, -0.10756874, -0.00198761, -0.39940006,\n",
       "         -0.6715508 ,  0.08660242, -0.41844112,  0.18201116,  0.48968527],\n",
       "        [ 0.37511334, -0.37199625,  0.44173533,  0.24094927, -0.16174568,\n",
       "         -0.15401885,  0.4139951 , -0.19938637, -0.03888976, -0.27960742],\n",
       "        [ 0.16509895, -0.17876188, -0.21151231,  0.29089493, -0.06778339,\n",
       "         -0.13989656,  0.4663867 , -0.37142166, -0.3608281 , -0.37011474]],\n",
       "       dtype=float32),\n",
       " array([0., 0., 0., 0., 0., 0., 0., 0., 0., 0.], dtype=float32),\n",
       " array([[ 0.11712084],\n",
       "        [ 0.16841394],\n",
       "        [ 0.02185903],\n",
       "        [-0.51915234],\n",
       "        [ 0.17178556],\n",
       "        [-0.3832682 ],\n",
       "        [-0.1033666 ],\n",
       "        [ 0.7066145 ],\n",
       "        [-0.10438992],\n",
       "        [ 0.03611432]], dtype=float32),\n",
       " array([0.], dtype=float32)]"
      ]
     },
     "execution_count": 18,
     "metadata": {},
     "output_type": "execute_result"
    }
   ],
   "source": [
    "model.get_weights()"
   ]
  },
  {
   "cell_type": "code",
   "execution_count": 19,
   "id": "761a909c-adc8-462d-abd3-24eeac74d662",
   "metadata": {},
   "outputs": [],
   "source": [
    "model.compile(loss='binary_crossentropy',optimizer='adam',metrics=['accuracy'])"
   ]
  },
  {
   "cell_type": "code",
   "execution_count": 20,
   "id": "8a5ae7e0-86b0-4e2b-88cb-f179dc2a8624",
   "metadata": {},
   "outputs": [
    {
     "name": "stdout",
     "output_type": "stream",
     "text": [
      "Epoch 1/100\n"
     ]
    },
    {
     "name": "stderr",
     "output_type": "stream",
     "text": [
      "WARNING: All log messages before absl::InitializeLog() is called are written to STDERR\n",
      "I0000 00:00:1748022615.078143   33921 service.cc:152] XLA service 0x7fd7740063a0 initialized for platform CUDA (this does not guarantee that XLA will be used). Devices:\n",
      "I0000 00:00:1748022615.078181   33921 service.cc:160]   StreamExecutor device (0): NVIDIA GeForce RTX 2050, Compute Capability 8.6\n",
      "2025-05-23 17:50:15.100104: I tensorflow/compiler/mlir/tensorflow/utils/dump_mlir_util.cc:269] disabling MLIR crash reproducer, set env var `MLIR_CRASH_REPRODUCER_DIRECTORY` to enable.\n",
      "I0000 00:00:1748022615.258394   33921 cuda_dnn.cc:529] Loaded cuDNN version 90300\n"
     ]
    },
    {
     "name": "stdout",
     "output_type": "stream",
     "text": [
      "\u001b[1m1/3\u001b[0m \u001b[32m━━━━━━\u001b[0m\u001b[37m━━━━━━━━━━━━━━\u001b[0m \u001b[1m3s\u001b[0m 2s/step - accuracy: 0.4375 - loss: 0.6907"
     ]
    },
    {
     "name": "stderr",
     "output_type": "stream",
     "text": [
      "I0000 00:00:1748022615.883329   33921 device_compiler.h:188] Compiled cluster using XLA!  This line is logged at most once for the lifetime of the process.\n"
     ]
    },
    {
     "name": "stdout",
     "output_type": "stream",
     "text": [
      "\u001b[1m3/3\u001b[0m \u001b[32m━━━━━━━━━━━━━━━━━━━━\u001b[0m\u001b[37m\u001b[0m \u001b[1m3s\u001b[0m 609ms/step - accuracy: 0.4773 - loss: 0.6873 - val_accuracy: 0.5000 - val_loss: 0.6823\n",
      "Epoch 2/100\n",
      "\u001b[1m3/3\u001b[0m \u001b[32m━━━━━━━━━━━━━━━━━━━━\u001b[0m\u001b[37m\u001b[0m \u001b[1m0s\u001b[0m 22ms/step - accuracy: 0.4890 - loss: 0.6844 - val_accuracy: 0.5000 - val_loss: 0.6802\n",
      "Epoch 3/100\n",
      "\u001b[1m3/3\u001b[0m \u001b[32m━━━━━━━━━━━━━━━━━━━━\u001b[0m\u001b[37m\u001b[0m \u001b[1m0s\u001b[0m 20ms/step - accuracy: 0.4851 - loss: 0.6830 - val_accuracy: 0.5500 - val_loss: 0.6779\n",
      "Epoch 4/100\n",
      "\u001b[1m3/3\u001b[0m \u001b[32m━━━━━━━━━━━━━━━━━━━━\u001b[0m\u001b[37m\u001b[0m \u001b[1m0s\u001b[0m 21ms/step - accuracy: 0.4836 - loss: 0.6829 - val_accuracy: 0.5500 - val_loss: 0.6754\n",
      "Epoch 5/100\n",
      "\u001b[1m3/3\u001b[0m \u001b[32m━━━━━━━━━━━━━━━━━━━━\u001b[0m\u001b[37m\u001b[0m \u001b[1m0s\u001b[0m 21ms/step - accuracy: 0.4993 - loss: 0.6796 - val_accuracy: 0.5500 - val_loss: 0.6729\n",
      "Epoch 6/100\n",
      "\u001b[1m3/3\u001b[0m \u001b[32m━━━━━━━━━━━━━━━━━━━━\u001b[0m\u001b[37m\u001b[0m \u001b[1m0s\u001b[0m 21ms/step - accuracy: 0.4993 - loss: 0.6760 - val_accuracy: 0.5500 - val_loss: 0.6701\n",
      "Epoch 7/100\n",
      "\u001b[1m3/3\u001b[0m \u001b[32m━━━━━━━━━━━━━━━━━━━━\u001b[0m\u001b[37m\u001b[0m \u001b[1m0s\u001b[0m 21ms/step - accuracy: 0.5432 - loss: 0.6728 - val_accuracy: 0.5500 - val_loss: 0.6672\n",
      "Epoch 8/100\n",
      "\u001b[1m3/3\u001b[0m \u001b[32m━━━━━━━━━━━━━━━━━━━━\u001b[0m\u001b[37m\u001b[0m \u001b[1m0s\u001b[0m 21ms/step - accuracy: 0.5597 - loss: 0.6714 - val_accuracy: 0.6000 - val_loss: 0.6641\n",
      "Epoch 9/100\n",
      "\u001b[1m3/3\u001b[0m \u001b[32m━━━━━━━━━━━━━━━━━━━━\u001b[0m\u001b[37m\u001b[0m \u001b[1m0s\u001b[0m 21ms/step - accuracy: 0.6022 - loss: 0.6644 - val_accuracy: 0.7000 - val_loss: 0.6608\n",
      "Epoch 10/100\n",
      "\u001b[1m3/3\u001b[0m \u001b[32m━━━━━━━━━━━━━━━━━━━━\u001b[0m\u001b[37m\u001b[0m \u001b[1m0s\u001b[0m 21ms/step - accuracy: 0.6626 - loss: 0.6618 - val_accuracy: 0.7000 - val_loss: 0.6572\n",
      "Epoch 11/100\n",
      "\u001b[1m3/3\u001b[0m \u001b[32m━━━━━━━━━━━━━━━━━━━━\u001b[0m\u001b[37m\u001b[0m \u001b[1m0s\u001b[0m 21ms/step - accuracy: 0.6909 - loss: 0.6555 - val_accuracy: 0.7000 - val_loss: 0.6535\n",
      "Epoch 12/100\n",
      "\u001b[1m3/3\u001b[0m \u001b[32m━━━━━━━━━━━━━━━━━━━━\u001b[0m\u001b[37m\u001b[0m \u001b[1m0s\u001b[0m 21ms/step - accuracy: 0.6582 - loss: 0.6600 - val_accuracy: 0.7500 - val_loss: 0.6496\n",
      "Epoch 13/100\n",
      "\u001b[1m3/3\u001b[0m \u001b[32m━━━━━━━━━━━━━━━━━━━━\u001b[0m\u001b[37m\u001b[0m \u001b[1m0s\u001b[0m 21ms/step - accuracy: 0.7333 - loss: 0.6476 - val_accuracy: 0.7500 - val_loss: 0.6453\n",
      "Epoch 14/100\n",
      "\u001b[1m3/3\u001b[0m \u001b[32m━━━━━━━━━━━━━━━━━━━━\u001b[0m\u001b[37m\u001b[0m \u001b[1m0s\u001b[0m 21ms/step - accuracy: 0.6904 - loss: 0.6487 - val_accuracy: 0.8000 - val_loss: 0.6403\n",
      "Epoch 15/100\n",
      "\u001b[1m3/3\u001b[0m \u001b[32m━━━━━━━━━━━━━━━━━━━━\u001b[0m\u001b[37m\u001b[0m \u001b[1m0s\u001b[0m 21ms/step - accuracy: 0.7372 - loss: 0.6405 - val_accuracy: 0.8000 - val_loss: 0.6352\n",
      "Epoch 16/100\n",
      "\u001b[1m3/3\u001b[0m \u001b[32m━━━━━━━━━━━━━━━━━━━━\u001b[0m\u001b[37m\u001b[0m \u001b[1m0s\u001b[0m 21ms/step - accuracy: 0.7514 - loss: 0.6332 - val_accuracy: 0.8000 - val_loss: 0.6299\n",
      "Epoch 17/100\n",
      "\u001b[1m3/3\u001b[0m \u001b[32m━━━━━━━━━━━━━━━━━━━━\u001b[0m\u001b[37m\u001b[0m \u001b[1m0s\u001b[0m 21ms/step - accuracy: 0.7382 - loss: 0.6393 - val_accuracy: 0.8500 - val_loss: 0.6244\n",
      "Epoch 18/100\n",
      "\u001b[1m3/3\u001b[0m \u001b[32m━━━━━━━━━━━━━━━━━━━━\u001b[0m\u001b[37m\u001b[0m \u001b[1m0s\u001b[0m 21ms/step - accuracy: 0.7577 - loss: 0.6294 - val_accuracy: 0.9000 - val_loss: 0.6184\n",
      "Epoch 19/100\n",
      "\u001b[1m3/3\u001b[0m \u001b[32m━━━━━━━━━━━━━━━━━━━━\u001b[0m\u001b[37m\u001b[0m \u001b[1m0s\u001b[0m 20ms/step - accuracy: 0.7460 - loss: 0.6309 - val_accuracy: 0.9000 - val_loss: 0.6123\n",
      "Epoch 20/100\n",
      "\u001b[1m3/3\u001b[0m \u001b[32m━━━━━━━━━━━━━━━━━━━━\u001b[0m\u001b[37m\u001b[0m \u001b[1m0s\u001b[0m 21ms/step - accuracy: 0.7523 - loss: 0.6214 - val_accuracy: 0.9000 - val_loss: 0.6059\n",
      "Epoch 21/100\n",
      "\u001b[1m3/3\u001b[0m \u001b[32m━━━━━━━━━━━━━━━━━━━━\u001b[0m\u001b[37m\u001b[0m \u001b[1m0s\u001b[0m 21ms/step - accuracy: 0.7484 - loss: 0.6108 - val_accuracy: 0.9000 - val_loss: 0.5993\n",
      "Epoch 22/100\n",
      "\u001b[1m3/3\u001b[0m \u001b[32m━━━━━━━━━━━━━━━━━━━━\u001b[0m\u001b[37m\u001b[0m \u001b[1m0s\u001b[0m 21ms/step - accuracy: 0.7484 - loss: 0.6158 - val_accuracy: 0.9000 - val_loss: 0.5926\n",
      "Epoch 23/100\n",
      "\u001b[1m3/3\u001b[0m \u001b[32m━━━━━━━━━━━━━━━━━━━━\u001b[0m\u001b[37m\u001b[0m \u001b[1m0s\u001b[0m 21ms/step - accuracy: 0.7616 - loss: 0.5963 - val_accuracy: 0.9000 - val_loss: 0.5855\n",
      "Epoch 24/100\n",
      "\u001b[1m3/3\u001b[0m \u001b[32m━━━━━━━━━━━━━━━━━━━━\u001b[0m\u001b[37m\u001b[0m \u001b[1m0s\u001b[0m 21ms/step - accuracy: 0.7547 - loss: 0.5976 - val_accuracy: 0.9000 - val_loss: 0.5785\n",
      "Epoch 25/100\n",
      "\u001b[1m3/3\u001b[0m \u001b[32m━━━━━━━━━━━━━━━━━━━━\u001b[0m\u001b[37m\u001b[0m \u001b[1m0s\u001b[0m 20ms/step - accuracy: 0.7987 - loss: 0.5910 - val_accuracy: 0.9000 - val_loss: 0.5714\n",
      "Epoch 26/100\n",
      "\u001b[1m3/3\u001b[0m \u001b[32m━━━━━━━━━━━━━━━━━━━━\u001b[0m\u001b[37m\u001b[0m \u001b[1m0s\u001b[0m 21ms/step - accuracy: 0.8011 - loss: 0.5860 - val_accuracy: 0.9000 - val_loss: 0.5641\n",
      "Epoch 27/100\n",
      "\u001b[1m3/3\u001b[0m \u001b[32m━━━━━━━━━━━━━━━━━━━━\u001b[0m\u001b[37m\u001b[0m \u001b[1m0s\u001b[0m 21ms/step - accuracy: 0.7737 - loss: 0.5929 - val_accuracy: 0.9000 - val_loss: 0.5566\n",
      "Epoch 28/100\n",
      "\u001b[1m3/3\u001b[0m \u001b[32m━━━━━━━━━━━━━━━━━━━━\u001b[0m\u001b[37m\u001b[0m \u001b[1m0s\u001b[0m 22ms/step - accuracy: 0.8113 - loss: 0.5708 - val_accuracy: 0.9000 - val_loss: 0.5487\n",
      "Epoch 29/100\n",
      "\u001b[1m3/3\u001b[0m \u001b[32m━━━━━━━━━━━━━━━━━━━━\u001b[0m\u001b[37m\u001b[0m \u001b[1m0s\u001b[0m 21ms/step - accuracy: 0.7957 - loss: 0.5672 - val_accuracy: 0.9000 - val_loss: 0.5412\n",
      "Epoch 30/100\n",
      "\u001b[1m3/3\u001b[0m \u001b[32m━━━━━━━━━━━━━━━━━━━━\u001b[0m\u001b[37m\u001b[0m \u001b[1m0s\u001b[0m 21ms/step - accuracy: 0.7957 - loss: 0.5734 - val_accuracy: 0.9000 - val_loss: 0.5335\n",
      "Epoch 31/100\n",
      "\u001b[1m3/3\u001b[0m \u001b[32m━━━━━━━━━━━━━━━━━━━━\u001b[0m\u001b[37m\u001b[0m \u001b[1m1s\u001b[0m 438ms/step - accuracy: 0.8372 - loss: 0.5553 - val_accuracy: 0.9000 - val_loss: 0.5255\n",
      "Epoch 32/100\n",
      "\u001b[1m3/3\u001b[0m \u001b[32m━━━━━━━━━━━━━━━━━━━━\u001b[0m\u001b[37m\u001b[0m \u001b[1m0s\u001b[0m 23ms/step - accuracy: 0.8528 - loss: 0.5401 - val_accuracy: 0.9000 - val_loss: 0.5178\n",
      "Epoch 33/100\n",
      "\u001b[1m3/3\u001b[0m \u001b[32m━━━━━━━━━━━━━━━━━━━━\u001b[0m\u001b[37m\u001b[0m \u001b[1m0s\u001b[0m 22ms/step - accuracy: 0.8294 - loss: 0.5440 - val_accuracy: 0.9000 - val_loss: 0.5106\n",
      "Epoch 34/100\n",
      "\u001b[1m3/3\u001b[0m \u001b[32m━━━━━━━━━━━━━━━━━━━━\u001b[0m\u001b[37m\u001b[0m \u001b[1m0s\u001b[0m 22ms/step - accuracy: 0.7981 - loss: 0.5482 - val_accuracy: 0.9000 - val_loss: 0.5031\n",
      "Epoch 35/100\n",
      "\u001b[1m3/3\u001b[0m \u001b[32m━━━━━━━━━━━━━━━━━━━━\u001b[0m\u001b[37m\u001b[0m \u001b[1m0s\u001b[0m 21ms/step - accuracy: 0.8255 - loss: 0.5376 - val_accuracy: 0.9000 - val_loss: 0.4959\n",
      "Epoch 36/100\n",
      "\u001b[1m3/3\u001b[0m \u001b[32m━━━━━━━━━━━━━━━━━━━━\u001b[0m\u001b[37m\u001b[0m \u001b[1m0s\u001b[0m 21ms/step - accuracy: 0.8372 - loss: 0.5303 - val_accuracy: 0.9000 - val_loss: 0.4887\n",
      "Epoch 37/100\n",
      "\u001b[1m3/3\u001b[0m \u001b[32m━━━━━━━━━━━━━━━━━━━━\u001b[0m\u001b[37m\u001b[0m \u001b[1m0s\u001b[0m 20ms/step - accuracy: 0.8059 - loss: 0.5357 - val_accuracy: 0.9000 - val_loss: 0.4813\n",
      "Epoch 38/100\n",
      "\u001b[1m3/3\u001b[0m \u001b[32m━━━━━━━━━━━━━━━━━━━━\u001b[0m\u001b[37m\u001b[0m \u001b[1m0s\u001b[0m 21ms/step - accuracy: 0.8294 - loss: 0.5256 - val_accuracy: 0.9000 - val_loss: 0.4733\n",
      "Epoch 39/100\n",
      "\u001b[1m3/3\u001b[0m \u001b[32m━━━━━━━━━━━━━━━━━━━━\u001b[0m\u001b[37m\u001b[0m \u001b[1m0s\u001b[0m 24ms/step - accuracy: 0.8020 - loss: 0.5233 - val_accuracy: 0.9000 - val_loss: 0.4656\n",
      "Epoch 40/100\n",
      "\u001b[1m3/3\u001b[0m \u001b[32m━━━━━━━━━━━━━━━━━━━━\u001b[0m\u001b[37m\u001b[0m \u001b[1m0s\u001b[0m 24ms/step - accuracy: 0.8435 - loss: 0.5014 - val_accuracy: 0.9000 - val_loss: 0.4579\n",
      "Epoch 41/100\n",
      "\u001b[1m3/3\u001b[0m \u001b[32m━━━━━━━━━━━━━━━━━━━━\u001b[0m\u001b[37m\u001b[0m \u001b[1m0s\u001b[0m 24ms/step - accuracy: 0.8318 - loss: 0.5074 - val_accuracy: 0.9000 - val_loss: 0.4506\n",
      "Epoch 42/100\n",
      "\u001b[1m3/3\u001b[0m \u001b[32m━━━━━━━━━━━━━━━━━━━━\u001b[0m\u001b[37m\u001b[0m \u001b[1m0s\u001b[0m 24ms/step - accuracy: 0.8357 - loss: 0.5194 - val_accuracy: 0.9000 - val_loss: 0.4433\n",
      "Epoch 43/100\n",
      "\u001b[1m3/3\u001b[0m \u001b[32m━━━━━━━━━━━━━━━━━━━━\u001b[0m\u001b[37m\u001b[0m \u001b[1m0s\u001b[0m 24ms/step - accuracy: 0.8201 - loss: 0.5020 - val_accuracy: 0.9000 - val_loss: 0.4362\n",
      "Epoch 44/100\n",
      "\u001b[1m3/3\u001b[0m \u001b[32m━━━━━━━━━━━━━━━━━━━━\u001b[0m\u001b[37m\u001b[0m \u001b[1m0s\u001b[0m 25ms/step - accuracy: 0.8357 - loss: 0.4937 - val_accuracy: 0.9000 - val_loss: 0.4293\n",
      "Epoch 45/100\n",
      "\u001b[1m3/3\u001b[0m \u001b[32m━━━━━━━━━━━━━━━━━━━━\u001b[0m\u001b[37m\u001b[0m \u001b[1m0s\u001b[0m 26ms/step - accuracy: 0.8123 - loss: 0.4920 - val_accuracy: 0.9000 - val_loss: 0.4221\n",
      "Epoch 46/100\n",
      "\u001b[1m3/3\u001b[0m \u001b[32m━━━━━━━━━━━━━━━━━━━━\u001b[0m\u001b[37m\u001b[0m \u001b[1m0s\u001b[0m 25ms/step - accuracy: 0.8279 - loss: 0.4858 - val_accuracy: 0.9000 - val_loss: 0.4148\n",
      "Epoch 47/100\n",
      "\u001b[1m3/3\u001b[0m \u001b[32m━━━━━━━━━━━━━━━━━━━━\u001b[0m\u001b[37m\u001b[0m \u001b[1m0s\u001b[0m 25ms/step - accuracy: 0.8162 - loss: 0.4679 - val_accuracy: 0.9000 - val_loss: 0.4075\n",
      "Epoch 48/100\n",
      "\u001b[1m3/3\u001b[0m \u001b[32m━━━━━━━━━━━━━━━━━━━━\u001b[0m\u001b[37m\u001b[0m \u001b[1m0s\u001b[0m 25ms/step - accuracy: 0.8123 - loss: 0.4855 - val_accuracy: 0.9000 - val_loss: 0.4004\n",
      "Epoch 49/100\n",
      "\u001b[1m3/3\u001b[0m \u001b[32m━━━━━━━━━━━━━━━━━━━━\u001b[0m\u001b[37m\u001b[0m \u001b[1m0s\u001b[0m 40ms/step - accuracy: 0.8318 - loss: 0.4684 - val_accuracy: 0.9000 - val_loss: 0.3933\n",
      "Epoch 50/100\n",
      "\u001b[1m3/3\u001b[0m \u001b[32m━━━━━━━━━━━━━━━━━━━━\u001b[0m\u001b[37m\u001b[0m \u001b[1m0s\u001b[0m 26ms/step - accuracy: 0.8162 - loss: 0.4751 - val_accuracy: 0.9000 - val_loss: 0.3869\n",
      "Epoch 51/100\n",
      "\u001b[1m3/3\u001b[0m \u001b[32m━━━━━━━━━━━━━━━━━━━━\u001b[0m\u001b[37m\u001b[0m \u001b[1m0s\u001b[0m 25ms/step - accuracy: 0.8655 - loss: 0.4504 - val_accuracy: 0.9000 - val_loss: 0.3800\n",
      "Epoch 52/100\n",
      "\u001b[1m3/3\u001b[0m \u001b[32m━━━━━━━━━━━━━━━━━━━━\u001b[0m\u001b[37m\u001b[0m \u001b[1m0s\u001b[0m 24ms/step - accuracy: 0.8420 - loss: 0.4493 - val_accuracy: 0.9000 - val_loss: 0.3729\n",
      "Epoch 53/100\n",
      "\u001b[1m3/3\u001b[0m \u001b[32m━━━━━━━━━━━━━━━━━━━━\u001b[0m\u001b[37m\u001b[0m \u001b[1m0s\u001b[0m 24ms/step - accuracy: 0.8381 - loss: 0.4472 - val_accuracy: 0.9000 - val_loss: 0.3648\n",
      "Epoch 54/100\n",
      "\u001b[1m3/3\u001b[0m \u001b[32m━━━━━━━━━━━━━━━━━━━━\u001b[0m\u001b[37m\u001b[0m \u001b[1m0s\u001b[0m 24ms/step - accuracy: 0.8616 - loss: 0.4090 - val_accuracy: 0.9500 - val_loss: 0.3559\n",
      "Epoch 55/100\n",
      "\u001b[1m3/3\u001b[0m \u001b[32m━━━━━━━━━━━━━━━━━━━━\u001b[0m\u001b[37m\u001b[0m \u001b[1m0s\u001b[0m 24ms/step - accuracy: 0.8459 - loss: 0.4354 - val_accuracy: 0.9500 - val_loss: 0.3467\n",
      "Epoch 56/100\n",
      "\u001b[1m3/3\u001b[0m \u001b[32m━━━━━━━━━━━━━━━━━━━━\u001b[0m\u001b[37m\u001b[0m \u001b[1m0s\u001b[0m 24ms/step - accuracy: 0.8264 - loss: 0.4167 - val_accuracy: 0.9500 - val_loss: 0.3373\n",
      "Epoch 57/100\n",
      "\u001b[1m3/3\u001b[0m \u001b[32m━━━━━━━━━━━━━━━━━━━━\u001b[0m\u001b[37m\u001b[0m \u001b[1m0s\u001b[0m 25ms/step - accuracy: 0.8498 - loss: 0.4188 - val_accuracy: 0.9500 - val_loss: 0.3277\n",
      "Epoch 58/100\n",
      "\u001b[1m3/3\u001b[0m \u001b[32m━━━━━━━━━━━━━━━━━━━━\u001b[0m\u001b[37m\u001b[0m \u001b[1m0s\u001b[0m 25ms/step - accuracy: 0.8459 - loss: 0.4119 - val_accuracy: 0.9500 - val_loss: 0.3178\n",
      "Epoch 59/100\n",
      "\u001b[1m3/3\u001b[0m \u001b[32m━━━━━━━━━━━━━━━━━━━━\u001b[0m\u001b[37m\u001b[0m \u001b[1m0s\u001b[0m 26ms/step - accuracy: 0.8459 - loss: 0.4057 - val_accuracy: 0.9500 - val_loss: 0.3083\n",
      "Epoch 60/100\n",
      "\u001b[1m3/3\u001b[0m \u001b[32m━━━━━━━━━━━━━━━━━━━━\u001b[0m\u001b[37m\u001b[0m \u001b[1m0s\u001b[0m 25ms/step - accuracy: 0.8694 - loss: 0.3801 - val_accuracy: 0.9500 - val_loss: 0.2992\n",
      "Epoch 61/100\n",
      "\u001b[1m3/3\u001b[0m \u001b[32m━━━━━━━━━━━━━━━━━━━━\u001b[0m\u001b[37m\u001b[0m \u001b[1m0s\u001b[0m 24ms/step - accuracy: 0.8342 - loss: 0.4025 - val_accuracy: 0.9500 - val_loss: 0.2909\n",
      "Epoch 62/100\n",
      "\u001b[1m3/3\u001b[0m \u001b[32m━━━━━━━━━━━━━━━━━━━━\u001b[0m\u001b[37m\u001b[0m \u001b[1m0s\u001b[0m 24ms/step - accuracy: 0.8483 - loss: 0.3937 - val_accuracy: 0.9500 - val_loss: 0.2826\n",
      "Epoch 63/100\n",
      "\u001b[1m3/3\u001b[0m \u001b[32m━━━━━━━━━━━━━━━━━━━━\u001b[0m\u001b[37m\u001b[0m \u001b[1m0s\u001b[0m 25ms/step - accuracy: 0.8718 - loss: 0.3697 - val_accuracy: 0.9500 - val_loss: 0.2742\n",
      "Epoch 64/100\n",
      "\u001b[1m3/3\u001b[0m \u001b[32m━━━━━━━━━━━━━━━━━━━━\u001b[0m\u001b[37m\u001b[0m \u001b[1m0s\u001b[0m 25ms/step - accuracy: 0.8859 - loss: 0.3677 - val_accuracy: 1.0000 - val_loss: 0.2660\n",
      "Epoch 65/100\n",
      "\u001b[1m3/3\u001b[0m \u001b[32m━━━━━━━━━━━━━━━━━━━━\u001b[0m\u001b[37m\u001b[0m \u001b[1m0s\u001b[0m 25ms/step - accuracy: 0.8703 - loss: 0.3688 - val_accuracy: 1.0000 - val_loss: 0.2581\n",
      "Epoch 66/100\n",
      "\u001b[1m3/3\u001b[0m \u001b[32m━━━━━━━━━━━━━━━━━━━━\u001b[0m\u001b[37m\u001b[0m \u001b[1m0s\u001b[0m 25ms/step - accuracy: 0.8781 - loss: 0.3428 - val_accuracy: 1.0000 - val_loss: 0.2496\n",
      "Epoch 67/100\n",
      "\u001b[1m3/3\u001b[0m \u001b[32m━━━━━━━━━━━━━━━━━━━━\u001b[0m\u001b[37m\u001b[0m \u001b[1m0s\u001b[0m 24ms/step - accuracy: 0.8781 - loss: 0.3538 - val_accuracy: 0.9500 - val_loss: 0.2423\n",
      "Epoch 68/100\n",
      "\u001b[1m3/3\u001b[0m \u001b[32m━━━━━━━━━━━━━━━━━━━━\u001b[0m\u001b[37m\u001b[0m \u001b[1m0s\u001b[0m 25ms/step - accuracy: 0.8766 - loss: 0.3763 - val_accuracy: 1.0000 - val_loss: 0.2351\n",
      "Epoch 69/100\n",
      "\u001b[1m3/3\u001b[0m \u001b[32m━━━━━━━━━━━━━━━━━━━━\u001b[0m\u001b[37m\u001b[0m \u001b[1m0s\u001b[0m 26ms/step - accuracy: 0.8884 - loss: 0.3421 - val_accuracy: 0.9500 - val_loss: 0.2279\n",
      "Epoch 70/100\n",
      "\u001b[1m3/3\u001b[0m \u001b[32m━━━━━━━━━━━━━━━━━━━━\u001b[0m\u001b[37m\u001b[0m \u001b[1m0s\u001b[0m 25ms/step - accuracy: 0.8805 - loss: 0.3541 - val_accuracy: 0.9500 - val_loss: 0.2208\n",
      "Epoch 71/100\n",
      "\u001b[1m3/3\u001b[0m \u001b[32m━━━━━━━━━━━━━━━━━━━━\u001b[0m\u001b[37m\u001b[0m \u001b[1m0s\u001b[0m 34ms/step - accuracy: 0.8884 - loss: 0.3195 - val_accuracy: 0.9500 - val_loss: 0.2136\n",
      "Epoch 72/100\n",
      "\u001b[1m3/3\u001b[0m \u001b[32m━━━━━━━━━━━━━━━━━━━━\u001b[0m\u001b[37m\u001b[0m \u001b[1m0s\u001b[0m 32ms/step - accuracy: 0.8805 - loss: 0.3362 - val_accuracy: 0.9500 - val_loss: 0.2073\n",
      "Epoch 73/100\n",
      "\u001b[1m3/3\u001b[0m \u001b[32m━━━━━━━━━━━━━━━━━━━━\u001b[0m\u001b[37m\u001b[0m \u001b[1m0s\u001b[0m 25ms/step - accuracy: 0.8923 - loss: 0.3180 - val_accuracy: 0.9500 - val_loss: 0.2017\n",
      "Epoch 74/100\n",
      "\u001b[1m3/3\u001b[0m \u001b[32m━━━━━━━━━━━━━━━━━━━━\u001b[0m\u001b[37m\u001b[0m \u001b[1m0s\u001b[0m 25ms/step - accuracy: 0.8766 - loss: 0.3336 - val_accuracy: 0.9500 - val_loss: 0.1966\n",
      "Epoch 75/100\n",
      "\u001b[1m3/3\u001b[0m \u001b[32m━━━━━━━━━━━━━━━━━━━━\u001b[0m\u001b[37m\u001b[0m \u001b[1m0s\u001b[0m 26ms/step - accuracy: 0.8884 - loss: 0.3172 - val_accuracy: 0.9500 - val_loss: 0.1925\n",
      "Epoch 76/100\n",
      "\u001b[1m3/3\u001b[0m \u001b[32m━━━━━━━━━━━━━━━━━━━━\u001b[0m\u001b[37m\u001b[0m \u001b[1m0s\u001b[0m 25ms/step - accuracy: 0.8923 - loss: 0.3002 - val_accuracy: 0.9500 - val_loss: 0.1884\n",
      "Epoch 77/100\n",
      "\u001b[1m3/3\u001b[0m \u001b[32m━━━━━━━━━━━━━━━━━━━━\u001b[0m\u001b[37m\u001b[0m \u001b[1m0s\u001b[0m 25ms/step - accuracy: 0.9001 - loss: 0.2970 - val_accuracy: 0.9500 - val_loss: 0.1844\n",
      "Epoch 78/100\n",
      "\u001b[1m3/3\u001b[0m \u001b[32m━━━━━━━━━━━━━━━━━━━━\u001b[0m\u001b[37m\u001b[0m \u001b[1m0s\u001b[0m 25ms/step - accuracy: 0.8781 - loss: 0.3115 - val_accuracy: 0.9500 - val_loss: 0.1807\n",
      "Epoch 79/100\n",
      "\u001b[1m3/3\u001b[0m \u001b[32m━━━━━━━━━━━━━━━━━━━━\u001b[0m\u001b[37m\u001b[0m \u001b[1m0s\u001b[0m 25ms/step - accuracy: 0.8742 - loss: 0.3111 - val_accuracy: 0.9500 - val_loss: 0.1771\n",
      "Epoch 80/100\n",
      "\u001b[1m3/3\u001b[0m \u001b[32m━━━━━━━━━━━━━━━━━━━━\u001b[0m\u001b[37m\u001b[0m \u001b[1m0s\u001b[0m 24ms/step - accuracy: 0.8586 - loss: 0.3260 - val_accuracy: 0.9000 - val_loss: 0.1742\n",
      "Epoch 81/100\n",
      "\u001b[1m3/3\u001b[0m \u001b[32m━━━━━━━━━━━━━━━━━━━━\u001b[0m\u001b[37m\u001b[0m \u001b[1m0s\u001b[0m 26ms/step - accuracy: 0.8805 - loss: 0.3115 - val_accuracy: 0.9500 - val_loss: 0.1714\n",
      "Epoch 82/100\n",
      "\u001b[1m3/3\u001b[0m \u001b[32m━━━━━━━━━━━━━━━━━━━━\u001b[0m\u001b[37m\u001b[0m \u001b[1m0s\u001b[0m 25ms/step - accuracy: 0.9001 - loss: 0.2808 - val_accuracy: 0.9500 - val_loss: 0.1680\n",
      "Epoch 83/100\n",
      "\u001b[1m3/3\u001b[0m \u001b[32m━━━━━━━━━━━━━━━━━━━━\u001b[0m\u001b[37m\u001b[0m \u001b[1m0s\u001b[0m 24ms/step - accuracy: 0.8884 - loss: 0.2807 - val_accuracy: 0.9500 - val_loss: 0.1651\n",
      "Epoch 84/100\n",
      "\u001b[1m3/3\u001b[0m \u001b[32m━━━━━━━━━━━━━━━━━━━━\u001b[0m\u001b[37m\u001b[0m \u001b[1m0s\u001b[0m 25ms/step - accuracy: 0.9157 - loss: 0.2659 - val_accuracy: 0.9500 - val_loss: 0.1628\n",
      "Epoch 85/100\n",
      "\u001b[1m3/3\u001b[0m \u001b[32m━━━━━━━━━━━━━━━━━━━━\u001b[0m\u001b[37m\u001b[0m \u001b[1m0s\u001b[0m 24ms/step - accuracy: 0.8830 - loss: 0.3214 - val_accuracy: 1.0000 - val_loss: 0.1606\n",
      "Epoch 86/100\n",
      "\u001b[1m3/3\u001b[0m \u001b[32m━━━━━━━━━━━━━━━━━━━━\u001b[0m\u001b[37m\u001b[0m \u001b[1m0s\u001b[0m 26ms/step - accuracy: 0.9181 - loss: 0.2712 - val_accuracy: 0.9500 - val_loss: 0.1578\n",
      "Epoch 87/100\n",
      "\u001b[1m3/3\u001b[0m \u001b[32m━━━━━━━━━━━━━━━━━━━━\u001b[0m\u001b[37m\u001b[0m \u001b[1m0s\u001b[0m 39ms/step - accuracy: 0.8947 - loss: 0.2815 - val_accuracy: 0.9500 - val_loss: 0.1559\n",
      "Epoch 88/100\n",
      "\u001b[1m3/3\u001b[0m \u001b[32m━━━━━━━━━━━━━━━━━━━━\u001b[0m\u001b[37m\u001b[0m \u001b[1m0s\u001b[0m 27ms/step - accuracy: 0.9103 - loss: 0.2759 - val_accuracy: 0.9500 - val_loss: 0.1541\n",
      "Epoch 89/100\n",
      "\u001b[1m3/3\u001b[0m \u001b[32m━━━━━━━━━━━━━━━━━━━━\u001b[0m\u001b[37m\u001b[0m \u001b[1m0s\u001b[0m 24ms/step - accuracy: 0.9259 - loss: 0.2542 - val_accuracy: 0.9500 - val_loss: 0.1518\n",
      "Epoch 90/100\n",
      "\u001b[1m3/3\u001b[0m \u001b[32m━━━━━━━━━━━━━━━━━━━━\u001b[0m\u001b[37m\u001b[0m \u001b[1m0s\u001b[0m 24ms/step - accuracy: 0.9103 - loss: 0.2642 - val_accuracy: 0.9500 - val_loss: 0.1509\n",
      "Epoch 91/100\n",
      "\u001b[1m3/3\u001b[0m \u001b[32m━━━━━━━━━━━━━━━━━━━━\u001b[0m\u001b[37m\u001b[0m \u001b[1m0s\u001b[0m 23ms/step - accuracy: 0.9103 - loss: 0.2779 - val_accuracy: 0.9500 - val_loss: 0.1502\n",
      "Epoch 92/100\n",
      "\u001b[1m3/3\u001b[0m \u001b[32m━━━━━━━━━━━━━━━━━━━━\u001b[0m\u001b[37m\u001b[0m \u001b[1m0s\u001b[0m 25ms/step - accuracy: 0.8947 - loss: 0.2853 - val_accuracy: 0.9500 - val_loss: 0.1494\n",
      "Epoch 93/100\n",
      "\u001b[1m3/3\u001b[0m \u001b[32m━━━━━━━━━━━━━━━━━━━━\u001b[0m\u001b[37m\u001b[0m \u001b[1m0s\u001b[0m 24ms/step - accuracy: 0.9064 - loss: 0.2939 - val_accuracy: 0.9500 - val_loss: 0.1484\n",
      "Epoch 94/100\n",
      "\u001b[1m3/3\u001b[0m \u001b[32m━━━━━━━━━━━━━━━━━━━━\u001b[0m\u001b[37m\u001b[0m \u001b[1m0s\u001b[0m 26ms/step - accuracy: 0.9064 - loss: 0.2830 - val_accuracy: 0.9500 - val_loss: 0.1470\n",
      "Epoch 95/100\n",
      "\u001b[1m3/3\u001b[0m \u001b[32m━━━━━━━━━━━━━━━━━━━━\u001b[0m\u001b[37m\u001b[0m \u001b[1m0s\u001b[0m 26ms/step - accuracy: 0.9064 - loss: 0.2751 - val_accuracy: 0.9500 - val_loss: 0.1455\n",
      "Epoch 96/100\n",
      "\u001b[1m3/3\u001b[0m \u001b[32m━━━━━━━━━━━━━━━━━━━━\u001b[0m\u001b[37m\u001b[0m \u001b[1m0s\u001b[0m 24ms/step - accuracy: 0.9025 - loss: 0.2822 - val_accuracy: 0.9500 - val_loss: 0.1442\n",
      "Epoch 97/100\n",
      "\u001b[1m3/3\u001b[0m \u001b[32m━━━━━━━━━━━━━━━━━━━━\u001b[0m\u001b[37m\u001b[0m \u001b[1m0s\u001b[0m 25ms/step - accuracy: 0.9025 - loss: 0.2715 - val_accuracy: 0.9500 - val_loss: 0.1430\n",
      "Epoch 98/100\n",
      "\u001b[1m3/3\u001b[0m \u001b[32m━━━━━━━━━━━━━━━━━━━━\u001b[0m\u001b[37m\u001b[0m \u001b[1m0s\u001b[0m 26ms/step - accuracy: 0.9025 - loss: 0.2904 - val_accuracy: 0.9500 - val_loss: 0.1418\n",
      "Epoch 99/100\n",
      "\u001b[1m3/3\u001b[0m \u001b[32m━━━━━━━━━━━━━━━━━━━━\u001b[0m\u001b[37m\u001b[0m \u001b[1m0s\u001b[0m 25ms/step - accuracy: 0.9025 - loss: 0.2763 - val_accuracy: 0.9500 - val_loss: 0.1404\n",
      "Epoch 100/100\n",
      "\u001b[1m3/3\u001b[0m \u001b[32m━━━━━━━━━━━━━━━━━━━━\u001b[0m\u001b[37m\u001b[0m \u001b[1m0s\u001b[0m 25ms/step - accuracy: 0.9025 - loss: 0.2804 - val_accuracy: 0.9500 - val_loss: 0.1390\n"
     ]
    }
   ],
   "source": [
    "history = model.fit(X,y,epochs=100,validation_split=0.2)"
   ]
  },
  {
   "cell_type": "code",
   "execution_count": 21,
   "id": "64638768-f6f3-4cac-be6d-b52f03b09528",
   "metadata": {},
   "outputs": [
    {
     "data": {
      "text/plain": [
       "[array([[ 0.0755046 ,  0.49866116,  0.45329756, -0.51597416,  0.25404197,\n",
       "          1.4428159 , -0.6174817 , -1.5489055 ,  0.29683107,  0.41751176],\n",
       "        [-0.18478264,  0.00553376,  0.304704  , -0.672976  ,  0.77102864,\n",
       "         -1.2603445 , -0.02138556, -1.0040164 ,  1.3694279 , -1.4028063 ]],\n",
       "       dtype=float32),\n",
       " array([ 0.0680949 , -0.19578323, -0.14617173, -0.07857466,  0.05138868,\n",
       "        -0.1594846 , -0.02659007,  0.0602049 ,  0.08456567,  0.14363317],\n",
       "       dtype=float32),\n",
       " array([[ 0.05461452,  0.30315593,  0.04360377, -0.23205142, -0.45136136,\n",
       "          0.31167075,  0.13566534, -0.3477978 ,  0.14204241, -0.25024492],\n",
       "        [-0.15361793,  0.9298911 , -0.0112577 ,  0.10024872, -0.10788069,\n",
       "         -0.5346473 ,  0.37586153, -0.04989217,  0.38968682, -0.05729683],\n",
       "        [-0.37542564,  0.20845605, -0.5393574 ,  0.00830165,  0.2702432 ,\n",
       "         -0.4541466 ,  0.39386848, -0.27530384, -0.361627  , -0.6745327 ],\n",
       "        [-0.08046558, -0.0461628 , -0.01997126, -0.46384   ,  0.32051873,\n",
       "          0.18229377,  0.04171392, -0.34525618, -0.31020793, -0.03923957],\n",
       "        [ 0.06505688, -0.15733126,  0.14728172, -0.36060736,  0.24519783,\n",
       "          0.4802308 ,  0.13007356, -0.0891668 , -0.09749809, -0.2677091 ],\n",
       "        [-0.22257431,  0.11765064, -0.32975143, -0.18006437,  0.2704711 ,\n",
       "         -0.24094509, -0.4335581 , -0.3190904 , -0.1537207 , -0.5099576 ],\n",
       "        [-0.18404368,  0.10769786,  0.00438769, -0.24907738,  0.57073134,\n",
       "         -0.2254714 ,  1.0755765 ,  0.17359102,  0.13225068,  0.0347537 ],\n",
       "        [-0.01519387,  0.02375229,  0.31667238, -0.11718094,  0.6971432 ,\n",
       "         -0.11070279,  0.2052423 , -0.05364976, -0.04875486, -0.22239494],\n",
       "        [ 0.520613  , -0.19035617,  0.06713274, -0.33087674,  0.464328  ,\n",
       "          0.9679762 , -0.05151119, -0.6096046 , -0.27830195,  0.00143689],\n",
       "        [ 0.31758454,  0.80214417, -0.01956852, -0.07708475, -0.32053146,\n",
       "          0.02950152,  0.3173219 , -0.02304124,  0.1675466 , -0.06693429]],\n",
       "       dtype=float32),\n",
       " array([ 0.17269889, -0.05286488,  0.16015328,  0.        , -0.04126699,\n",
       "         0.01798679,  0.10678476, -0.0083626 , -0.07925444,  0.        ],\n",
       "       dtype=float32),\n",
       " array([[ 0.25989294, -0.09016599, -0.32588875, -0.29088077,  0.73526376,\n",
       "          0.2876731 ,  0.19152793,  0.43271494,  0.35667855,  0.47790772],\n",
       "        [ 0.2115015 , -0.30519557, -0.1869618 , -0.4283568 ,  0.02144801,\n",
       "          0.23446865,  0.23230357, -0.2617665 , -0.27139503, -0.4684468 ],\n",
       "        [ 0.19044285, -0.06798232,  0.18098612,  0.1345747 ,  0.33809897,\n",
       "          0.82620937, -0.40484926, -0.07201778,  0.3051146 ,  0.21544133],\n",
       "        [-0.6792774 ,  0.6205291 ,  0.54396355,  0.25659937,  0.21389477,\n",
       "         -0.00981741, -0.0880975 ,  0.05306293, -0.06664909,  0.7138189 ],\n",
       "        [ 0.3271304 , -0.0756726 ,  0.06565476,  0.5716902 ,  0.30608252,\n",
       "         -0.7311452 , -0.16564438, -0.57017887, -0.05651495,  0.45255822],\n",
       "        [ 0.05823174, -0.33729956,  0.22184612, -0.63141835,  0.2585885 ,\n",
       "          0.0278139 , -0.29964504, -0.5622355 ,  0.55923593,  0.80272377],\n",
       "        [-0.23811464, -0.39384705, -0.43880752,  0.27671474,  0.61647725,\n",
       "          0.3284627 ,  0.32279256, -0.3515381 ,  0.794702  ,  0.56285316],\n",
       "        [ 0.06215752,  0.23191984, -0.06725402,  0.6848871 , -0.2731394 ,\n",
       "         -0.19307138,  0.3036463 ,  0.03694812,  0.34789985, -0.33529428],\n",
       "        [-0.4164486 , -0.1557311 ,  0.47874054, -0.06055937, -0.27324006,\n",
       "          0.18844879,  0.07904837, -0.6400086 ,  0.01498924,  0.6069209 ],\n",
       "        [-0.47946823, -0.5413079 ,  0.49492335, -0.34341514,  0.44394767,\n",
       "          0.13356839, -0.05213352,  0.11441655, -0.4245353 ,  0.24796584]],\n",
       "       dtype=float32),\n",
       " array([ 0.23142314,  0.        , -0.0481771 , -0.09298034,  0.22619638,\n",
       "         0.19826385,  0.16744782,  0.        ,  0.05015526, -0.05739108],\n",
       "       dtype=float32),\n",
       " array([[-0.4520792 ,  0.47562355,  0.11523144,  0.29840726,  0.41939676,\n",
       "         -0.32981187,  0.22682938,  0.34018707,  0.5318327 ,  0.2265308 ],\n",
       "        [ 0.12446968,  0.10348096,  0.8418262 , -0.22727877, -0.5063082 ,\n",
       "         -0.26084787,  0.12165574,  0.17734711, -0.3654233 , -0.05864122],\n",
       "        [-0.13622184, -0.0248611 ,  0.25519252, -0.14273493,  0.07132428,\n",
       "          0.33862355, -0.5751058 , -0.10172185, -0.2708492 ,  0.0110236 ],\n",
       "        [ 0.31767735, -0.22428127,  0.5669914 ,  0.24372269, -0.24910203,\n",
       "          0.3814492 ,  0.37675413, -0.48335832, -0.11522079, -0.44561744],\n",
       "        [ 0.13448936,  0.07943369,  0.10577852,  0.3980495 ,  0.01905004,\n",
       "          0.6225879 , -0.22479288,  0.3983274 ,  0.07605716,  0.5401467 ],\n",
       "        [ 0.06638621,  0.61298937, -0.2504637 ,  0.15666074,  0.34791145,\n",
       "         -0.68014014, -0.93271905,  0.5499843 ,  0.5127691 ,  0.3558426 ],\n",
       "        [-0.24433209,  0.29166043, -0.2225674 , -0.55651337,  0.9162595 ,\n",
       "          0.09920947,  0.09417345,  0.40775588,  0.13624717,  0.16084598],\n",
       "        [-0.34557435,  0.30566984, -0.10756874, -0.00198761, -0.39940006,\n",
       "         -0.6715508 ,  0.08660242, -0.41844112,  0.18201116,  0.48968527],\n",
       "        [ 0.3071446 , -0.32586858,  0.64440316,  0.43732902, -0.21416762,\n",
       "          0.04365683,  0.6426484 , -0.18526982,  0.04592073, -0.31564954],\n",
       "        [ 0.10942714, -0.1157501 , -0.02814242,  0.46994555, -0.09647955,\n",
       "          0.0503903 ,  0.67327523, -0.35634312, -0.3187655 , -0.39314273]],\n",
       "       dtype=float32),\n",
       " array([ 0.04348758,  0.23878482, -0.08640197, -0.1206449 ,  0.23260403,\n",
       "        -0.03159647, -0.06769042,  0.22188579,  0.10541105,  0.2743277 ],\n",
       "       dtype=float32),\n",
       " array([[-0.04310188],\n",
       "        [ 0.5171944 ],\n",
       "        [-0.2617673 ],\n",
       "        [-0.70829284],\n",
       "        [ 0.5174716 ],\n",
       "        [-0.66054064],\n",
       "        [-0.32289386],\n",
       "        [ 1.0621395 ],\n",
       "        [ 0.28820446],\n",
       "        [ 0.38287136]], dtype=float32),\n",
       " array([0.16535117], dtype=float32)]"
      ]
     },
     "execution_count": 21,
     "metadata": {},
     "output_type": "execute_result"
    }
   ],
   "source": [
    "model.get_weights()"
   ]
  },
  {
   "cell_type": "code",
   "execution_count": 22,
   "id": "a34a42f9-7817-4fa7-837c-6238cdfebfb4",
   "metadata": {},
   "outputs": [
    {
     "name": "stdout",
     "output_type": "stream",
     "text": [
      "\u001b[1m9600/9600\u001b[0m \u001b[32m━━━━━━━━━━━━━━━━━━━━\u001b[0m\u001b[37m\u001b[0m \u001b[1m9s\u001b[0m 949us/step\n"
     ]
    },
    {
     "data": {
      "text/plain": [
       "<Axes: >"
      ]
     },
     "execution_count": 22,
     "metadata": {},
     "output_type": "execute_result"
    },
    {
     "data": {
      "image/png": "[encoded data removed]",
      "text/plain": [
       "<Figure size 640x480 with 1 Axes>"
      ]
     },
     "metadata": {},
     "output_type": "display_data"
    }
   ],
   "source": [
    "from mlxtend.plotting import plot_decision_regions\n",
    "plot_decision_regions(X=X.values, y=y.values.astype(int), clf=model, legend=2)"
   ]
  },
  {
   "cell_type": "code",
   "execution_count": null,
   "id": "6efee026-37e4-4ab3-ae67-6f15385ef05f",
   "metadata": {},
   "outputs": [],
   "source": []
  }
 ],
 "metadata": {
  "kernelspec": {
   "display_name": "Python 3 (ipykernel)",
   "language": "python",
   "name": "python3"
  },
  "language_info": {
   "codemirror_mode": {
    "name": "ipython",
    "version": 3
   },
   "file_extension": ".py",
   "mimetype": "text/x-python",
   "name": "python",
   "nbconvert_exporter": "python",
   "pygments_lexer": "ipython3",
   "version": "3.12.3"
  }
 },
 "nbformat": 4,
 "nbformat_minor": 5
}
